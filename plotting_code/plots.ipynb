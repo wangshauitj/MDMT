{
 "cells": [
  {
   "cell_type": "code",
   "execution_count": 4,
   "metadata": {
    "scrolled": false
   },
   "outputs": [],
   "source": [
    "import math\n",
    "import sys\n",
    "import numpy as np\n",
    "from scipy.integrate import simps\n",
    "import matplotlib\n",
    "import matplotlib.colors as colors\n",
    "import matplotlib.cm as cmx\n",
    "import matplotlib.pyplot as plt\n",
    "import matplotlib.figure as figure\n",
    "import matplotlib.patches as mpatches\n",
    "from matplotlib.ticker import FormatStrFormatter\n",
    "from six.moves import cPickle as pickle\n",
    "from scipy.spatial.distance import cosine"
   ]
  },
  {
   "cell_type": "code",
   "execution_count": 5,
   "metadata": {},
   "outputs": [],
   "source": [
    "from matplotlib import rc\n",
    "rc('font',**{'family':'sans-serif','sans-serif':['Helvetica']})\n"
   ]
  },
  {
   "cell_type": "code",
   "execution_count": 6,
   "metadata": {
    "scrolled": false
   },
   "outputs": [],
   "source": [
    "# Helper functions\n",
    "def unpickle_data(pickle_file):\n",
    "    \"\"\"\n",
    "    Unpickles the data from a pickle file\n",
    "    \"\"\"\n",
    "    f = open(pickle_file, 'rb')\n",
    "    return pickle.load(f)\n",
    "\n",
    "def populate_data_dict(data_dict, key, pickle_file):\n",
    "    \"\"\"\n",
    "    Given a key populates a dictionary\n",
    "    \"\"\"\n",
    "    data_dict[key] = unpickle_data(pickle_file)\n",
    "    \n",
    "    \n",
    "def min_(a, b):\n",
    "    if a < b:\n",
    "        return a\n",
    "    else:\n",
    "        return b\n",
    "\n",
    "    \n",
    "def populate_k_shot_acc_dict(data_dict, key, k_shot_dict):\n",
    "    num_runs = data_dict[key]['mean'].shape[0]\n",
    "    k_shot_dict[key] = []\n",
    "    for run in range(num_runs):\n",
    "        key_acc = data_dict[key]['mean'][run]\n",
    "        num_batches = key_acc.shape[1]\n",
    "        num_tasks = key_acc.shape[0]\n",
    "        k_shot_acc = np.zeros([num_batches], dtype=np.float32)\n",
    "        for i in range(num_batches):\n",
    "            acc = 0.0\n",
    "            for j in range(num_tasks):\n",
    "                acc += key_acc[j,i,j]\n",
    "            k_shot_acc[i] = acc/ num_tasks\n",
    "        \n",
    "        k_shot_dict[key].append(k_shot_acc)\n",
    "        \n",
    "    k_shot_dict[key] = np.array(k_shot_dict[key])\n",
    "\n",
    "def populate_k_shot_acc_dict_with_varying_batches(data_dict, key, k_shot_dict):\n",
    "    num_runs = data_dict[key]['mean'].shape[0]\n",
    "    k_shot_dict[key] = []\n",
    "    for run in range(num_runs):\n",
    "        key_acc = data_dict[key]['mean'][run]\n",
    "        num_tasks = key_acc.shape[0]\n",
    "        # First compute the number of batches for each task (as total number of examples per task is different)\n",
    "        batches_per_task = []\n",
    "        for i in range(num_tasks):\n",
    "            batches_per_task.append(np.max(np.nonzero(np.sum(key_acc[i], axis=1))))\n",
    "\n",
    "        # Since the code above returned an index, so add '1' to get the count of batches for each task\n",
    "        batches_per_task = np.array(batches_per_task) + 1\n",
    "        max_batches = np.max(batches_per_task)\n",
    "        k_shot_acc = np.zeros([max_batches], dtype=np.float32)\n",
    "    \n",
    "        for i in range(max_batches):\n",
    "            acc = 0.0\n",
    "            task_count_with_this_batch = 0\n",
    "            for j in range(num_tasks):\n",
    "                if i < batches_per_task[j]: # Only add accuracy if current task has that many batches\n",
    "                    acc += key_acc[j,i,j]\n",
    "                    task_count_with_this_batch += 1\n",
    "                else:\n",
    "                    acc += key_acc[j,batches_per_task[j]-1,j]\n",
    "            k_shot_acc[i] = acc/ num_tasks\n",
    "        \n",
    "        # Store the average accuracy in the dictionary\n",
    "        k_shot_dict[key].append(k_shot_acc)\n",
    "    \n",
    "    k_shot_dict[key] = np.array(k_shot_dict[key])\n",
    "    \n",
    "    return batches_per_task    \n",
    "\n",
    "\n",
    "def compute_fgt(acc, key):\n",
    "    num_tasks = acc.shape[0] # Number of tasks\n",
    "    last_batch_dim = acc.shape[1] - 1 # Last batch dimension\n",
    "    fgt_msr = np.zeros([num_tasks-1]) # Not defined for first task. Store forgetting after each task\n",
    "    worst_case_fgt = np.zeros([num_tasks-1]) # Not defined for first task. Store forgetting after each task\n",
    "    for i in range(num_tasks):\n",
    "        if i == 0:\n",
    "            pass\n",
    "        else:\n",
    "            wst_fgt_i = []\n",
    "            fgt_i = 0.0\n",
    "            for j in range(i):\n",
    "                if key == 'GEM' or key == 'ICARL':\n",
    "                    fgt_per_task = np.amax(acc[:i,j]) - acc[i,j]\n",
    "                else:\n",
    "                    fgt_per_task = np.amax(acc[:i,last_batch_dim,j]) - acc[i,last_batch_dim,j]\n",
    "                        \n",
    "                fgt_i += fgt_per_task\n",
    "                wst_fgt_i.append(fgt_per_task)\n",
    "            fgt_msr[i-1] = fgt_i/ (j+1)\n",
    "            wst_fgt_i = np.array(wst_fgt_i)\n",
    "            worst_case_fgt[i-1] = np.max(wst_fgt_i)\n",
    "                \n",
    "    return fgt_msr, worst_case_fgt  \n",
    "\n",
    "\n",
    "def compute_ltr(data, key):\n",
    "    \"\"\"\n",
    "    Plot the average accuracy along the training path\n",
    "    \"\"\"    \n",
    "    ltr = 0\n",
    "\n",
    "    num_tasks = data.shape[0]\n",
    "\n",
    "    for j in range(num_tasks-1):\n",
    "        ltr +=  (num_tasks - 1- j)*min_(0, data[-1, -1, j] - data[j, -1, j] )\n",
    "    ltr = ltr / (num_tasks-1)\n",
    "\n",
    "    return -ltr\n",
    "\n",
    "\n",
    "def compute_fgt_with_varying_batches(data_dict, batches_per_task):\n",
    "    fgt_msr = dict()\n",
    "    for key in data_dict:\n",
    "        acc = data_dict[key]\n",
    "        num_tasks = acc.shape[0] # Number of tasks\n",
    "        last_batch_acc_for_all_tasks = np.zeros([num_tasks, num_tasks])\n",
    "        \n",
    "        # Compute the last batch performance for each task\n",
    "        for i in range(num_tasks):\n",
    "            last_batch_acc_for_all_tasks[i] = acc[i][batches_per_task[i]-1]\n",
    "        \n",
    "        fgt_msr[key] = np.zeros([num_tasks-1]) # Not defined for first task. Store forgetting after each task\n",
    "        for i in range(num_tasks):\n",
    "            if i == 0:\n",
    "                pass\n",
    "            else:\n",
    "                fgt_i = 0.0\n",
    "                for j in range(i):\n",
    "                    fgt_i += (np.amax(last_batch_acc_for_all_tasks[:i,j]) - last_batch_acc_for_all_tasks[i,j])\n",
    "                fgt_msr[key][i-1] = fgt_i/ (j+1)\n",
    "                \n",
    "    return fgt_msr\n",
    "\n",
    "def average_acc_stats_across_runs(data, key):\n",
    "    \"\"\"\n",
    "    Compute the average accuracy statistics (mean and std) across runs\n",
    "    \"\"\"\n",
    "    num_runs = data.shape[0]\n",
    "    avg_acc = np.zeros(num_runs)\n",
    "    for i in range(num_runs):\n",
    "        if key == 'GEM':\n",
    "            avg_acc[i] = np.mean(data[i][-1])\n",
    "        else:\n",
    "            avg_acc[i] = np.mean(data[i][-1, -1])\n",
    "        \n",
    "    return avg_acc.mean()*100, avg_acc.std()*100\n",
    "\n",
    "def average_fgt_stats_across_runs(data, key):\n",
    "    \"\"\"\n",
    "    Compute the forgetting statistics (mean and std) across runs\n",
    "    \"\"\"\n",
    "    num_runs = data.shape[0]\n",
    "    fgt = np.zeros(num_runs)\n",
    "    wst_fgt = np.zeros(num_runs)\n",
    "    for i in range(num_runs):\n",
    "        fgt_i, wst_fgt_i = compute_fgt(data[i], key)\n",
    "        #print('{}, {}'.format(i, fgt_i))\n",
    "        fgt[i] = fgt_i[-1]\n",
    "        wst_fgt[i] = wst_fgt_i[-1]\n",
    "        \n",
    "    return fgt.mean(), fgt.std(), wst_fgt.mean(), wst_fgt.std()\n",
    "        \n",
    "    \n",
    "def average_ltr_across_runs(data, key):\n",
    "    \"\"\"\n",
    "    Compute the forgetting statistics (mean and std) across runs\n",
    "    \"\"\"\n",
    "    num_runs = data.shape[0]\n",
    "    ltr = np.zeros(num_runs)\n",
    "\n",
    "    for i in range(num_runs):\n",
    "        ltr_i = compute_ltr(data[i], key)\n",
    "        #print('{}, {}'.format(i, fgt_i))\n",
    "        ltr[i] = ltr_i\n",
    "        \n",
    "    return ltr.mean(), ltr.std()\n",
    "\n",
    "\n",
    "def plot_k_shot_performance_task_view(n, data_dict, keys, plt_name):\n",
    "    plt.figure(figsize=(14, 7))\n",
    "    num_windows = len(keys)\n",
    "    for i, key in enumerate(keys):\n",
    "        data = data_dict[key]\n",
    "        num_tasks = data.shape[0]\n",
    "        plt.subplot(math.ceil((num_windows+1)/2), math.ceil((num_windows+1)/2), (i+1))\n",
    "        for k in range(n):\n",
    "            acc = np.zeros([num_tasks])\n",
    "            for task in range(num_tasks):\n",
    "                acc[task] = data[task, k, task]\n",
    "            plt.plot(np.arange(1,num_tasks+1), acc, label='%d-shot'%(k))\n",
    "        plt.xlabel('Tasks-%s'%(key))\n",
    "        plt.ylabel('Avg_Acc')\n",
    "        plt.xticks(np.arange(1, num_tasks+1))\n",
    "    plt.tight_layout()\n",
    "    #plt.legend(loc='best')\n",
    "    plt.legend(loc=6, bbox_to_anchor=(1, 0.5))\n",
    "    plt.savefig(plt_name)\n",
    "    \n",
    "def plot_k_shot_performance_method_view(n, data_dict, plt_name):\n",
    "    plt.figure(figsize=(14, 7))\n",
    "    for k in range(n):\n",
    "        plt.subplot(n//2, n//2, (k+1))\n",
    "        for i, key in enumerate(data_dict):\n",
    "            num_tasks = data_dict[key].shape[0]\n",
    "            acc = np.zeros(num_tasks)\n",
    "            for task in range(num_tasks):\n",
    "                acc[task] = data_dict[key][task, k, task]\n",
    "            plt.plot(np.arange(1,num_tasks+1), acc, label=key)\n",
    "        plt.xlabel('Tasks(%d-shot)'%(k))\n",
    "        plt.ylabel('Avg_Acc')\n",
    "        plt.xticks(np.arange(1, num_tasks+1))\n",
    "    plt.tight_layout()\n",
    "    plt.legend(loc='best')\n",
    "    #plt.savefig(plt_name)    \n",
    "    "
   ]
  },
  {
   "cell_type": "code",
   "execution_count": 7,
   "metadata": {},
   "outputs": [],
   "source": [
    "def plot_average_accuracy_along_training_path(dataset, data_mean, batches_per_task_ohot=None, plot_name=None, legend=False):\n",
    "    \"\"\"\n",
    "    Plot the average accuracy along the training path\n",
    "    \"\"\"\n",
    "    print (data_mean['MEGA']['mean'].shape)\n",
    "    \n",
    "    plt.clf()\n",
    "    K_FOR_CROSS_VAL = 3\n",
    "    avg_acc_dict = dict()\n",
    "    for key in data_mean:\n",
    "        if key == 'ICARL':\n",
    "            data = data_mean[key]\n",
    "            num_tasks = data.shape[0] - K_FOR_CROSS_VAL\n",
    "        else:\n",
    "            if batches_per_task_ohot is None:\n",
    "                data = data_mean[key]['mean'].mean(0)\n",
    "            else:\n",
    "                data = data_mean[key]['mean'][:,:,:batches_per_task_ohot[key][-1],:].mean(0)\n",
    "            \n",
    "            num_tasks = data.shape[0]\n",
    "        avg_acc = np.zeros(num_tasks)\n",
    "        \n",
    "        for i in range(num_tasks):\n",
    "            if key == 'MULTI-TASK':\n",
    "                avg_acc[i] = np.mean(data)\n",
    "            elif key == 'ICARL':\n",
    "                avg_acc[i] = np.mean(data[i,:i+1])\n",
    "            else:\n",
    "                avg_acc[i] = np.mean(data[i,-1,:i+1])\n",
    "       \n",
    "    \n",
    "        print(key, avg_acc[-1])\n",
    "        avg_acc_dict[key] = avg_acc\n",
    "\n",
    "    \n",
    "    fig = plt.figure(figsize=(8,2.5))\n",
    "    ax = fig.add_axes([0.15, 0.21, 0.6, 0.75])\n",
    "    tasks = np.arange(1, num_tasks+1)\n",
    "    \n",
    "    colors = {'MULTI-TASK':'-k', 'VAN': 'C0', 'ICARL':'C1', 'EWC': '-m', 'PI': '-b', 'MAS': '-y', \n",
    "              'RWALK':'-g', 'PROG-NN':'C5--', 'GEM':'C1', 'A-GEM':'-C9', 'MER': 'C6', 'MEGA': '-r', 'MER': 'C3'}\n",
    "    \n",
    "        \n",
    "    for i, key in enumerate(data_mean):\n",
    "        if key == 'MULTI-TASK':\n",
    "            continue\n",
    "        else:\n",
    "            if key == 'MEGA':\n",
    "                ax.plot(tasks, avg_acc_dict[key],'%s'%(colors[key]), marker='^', markersize=7, lw=2, label=key)\n",
    "            else:\n",
    "                ax.plot(tasks, avg_acc_dict[key],'%s'%(colors[key]), lw=2, label=key)\n",
    "                \n",
    "    if dataset == \"mnist\":\n",
    "        avg_acc_dict['MULTI-TASK'] = 0.953\n",
    "    elif dataset == \"cifar\":\n",
    "        avg_acc_dict['MULTI-TASK'] = 0.683\n",
    "    elif dataset == \"cub\":\n",
    "        avg_acc_dict['MULTI-TASK'] = 0.656\n",
    "    elif dataset == \"awa\":\n",
    "        avg_acc_dict['MULTI-TASK'] = 0.648     \n",
    "        \n",
    "    line, =  ax.plot(tasks , np.repeat(avg_acc_dict['MULTI-TASK'], len(tasks)) ,'%s'%(colors['MULTI-TASK']), lw=2, label='MULTI-TASK')\n",
    "    line.set_dashes([2, 2, 10, 2])\n",
    "        \n",
    "    if legend:\n",
    "        ax.legend(bbox_to_anchor=(1, 1), loc=2, borderaxespad=0.2)\n",
    "    \n",
    "    ax.set_xlabel('Tasks', size=20)\n",
    "    ax.set_ylabel('Avg Accuracy', size=20)\n",
    "    plt.xticks(tasks)\n",
    "    plt.grid()\n",
    "\n",
    "    \n",
    "    if plot_name is not None:\n",
    "        plt.savefig(plot_name, format='pdf', dpi=1000, bbox_inches = 'tight')\n",
    "    else:\n",
    "        plt.show()"
   ]
  },
  {
   "cell_type": "code",
   "execution_count": 8,
   "metadata": {
    "scrolled": false
   },
   "outputs": [],
   "source": [
    "def get_zero_shot_perf(data_mean_ohot, data_mean_je):\n",
    "    \"\"\"\n",
    "    Plot the zero-shot performance against the number of tasks\n",
    "    \"\"\"\n",
    "    zero_shot_ohot_perf = dict()\n",
    "    zero_shot_je_perf = dict()\n",
    "    \n",
    "    for key in data_mean_ohot:\n",
    "        if key == 'MULTI-TASK' or key == 'GEM':\n",
    "            continue\n",
    "        \n",
    "        data_ohot = data_mean_ohot[key]['mean'].mean(0)\n",
    "        #data_je = data_mean_je[key]['mean'].mean(0)\n",
    "        num_tasks = data_ohot.shape[0] \n",
    "        \n",
    "        zst_ohot_perf = np.zeros(num_tasks)\n",
    "        zst_je_perf = np.zeros(num_tasks)\n",
    "        \n",
    "        #if (data_ohot.shape[0] != num_tasks) or (data_je.shape[0] != num_tasks):\n",
    "        #    continue\n",
    "            \n",
    "        for i in range(num_tasks):\n",
    "            zst_ohot_perf[i] = data_ohot[i,0,i]\n",
    "            #zst_je_perf[i] = data_je[i,0,i]\n",
    "            \n",
    "        zero_shot_ohot_perf[key] = zst_ohot_perf\n",
    "        #zero_shot_je_perf[key] = zst_je_perf\n",
    "    \n",
    "    return zero_shot_ohot_perf, zero_shot_je_perf\n",
    "        "
   ]
  },
  {
   "cell_type": "code",
   "execution_count": 9,
   "metadata": {
    "scrolled": false
   },
   "outputs": [],
   "source": [
    "def bar_plot_k_shot_performance(data_dict, shot, is_cifar=False, plt_name=None):\n",
    "    num_tasks = data_dict['VAN'].shape[0]\n",
    "    ind = np.arange(1, num_tasks+1) # the x locations for the groups\n",
    "    width = 0.15 # the width of the bars\n",
    "    colors = ['r', 'g', 'b', 'c', 'y']\n",
    "    plt.clf()\n",
    "    for col_ind, key in enumerate(data_dict):\n",
    "        acc = np.zeros([num_tasks])\n",
    "        for task in range(num_tasks):\n",
    "            acc[task] = data_dict[key][task,shot,task]\n",
    "        p1 = plt.bar(ind+width*col_ind, acc, width, color='%s'%(colors[col_ind]), bottom=0, label=key)\n",
    "    \n",
    "    plt.xticks(np.arange(1, num_tasks+1)) # add loads of ticks\n",
    "\n",
    "    plt.gca().margins(x=0)\n",
    "    plt.gcf().canvas.draw()\n",
    "    tl = plt.gca().get_xticklabels()\n",
    "    maxsize = max([t.get_window_extent().width for t in tl])\n",
    "    m = 0.5 # inch margin\n",
    "    s = maxsize/plt.gcf().dpi*num_tasks+10*m\n",
    "    margin = m/plt.gcf().get_size_inches()[0]\n",
    "\n",
    "    plt.gcf().subplots_adjust(left=margin, right=1.-margin)\n",
    "    plt.gcf().set_size_inches(s, plt.gcf().get_size_inches()[1])\n",
    "    \n",
    "    if is_cifar:\n",
    "        plt.title('%d-Shot Performance'%(shot*5))\n",
    "    else:\n",
    "        plt.title('%d-Shot Performance'%(shot))\n",
    "    plt.legend(loc=6, bbox_to_anchor=(1, 0.8))\n",
    "    plt.xlabel('Tasks')\n",
    "    plt.ylabel('Avg_Acc')    \n",
    "    #plt.show()\n",
    "    plt.savefig(plt_name)\n",
    "    "
   ]
  },
  {
   "cell_type": "markdown",
   "metadata": {},
   "source": [
    "# PERMUTE MNIST"
   ]
  },
  {
   "cell_type": "code",
   "execution_count": 19,
   "metadata": {},
   "outputs": [],
   "source": [
    "PREFIX = '../results/mnist/'\n",
    "van_pickle = PREFIX+'PERMUTE_MNIST_HERDING_FC-S_0.03_True_VAN_0_0_10_25-19-07-31-21-48.pickle'\n",
    "ewc_pickle = PREFIX+'PERMUTE_MNIST_HERDING_FC-S_0.03_True_EWC_10_0_10_25-19-07-31-23-28.pickle'\n",
    "mas_pickle = PREFIX+'PERMUTE_MNIST_HERDING_FC-S_0.1_True_MAS_0_1_10_25-19-08-01-09-00.pickle'\n",
    "rwalk_pickle = PREFIX+'PERMUTE_MNIST_HERDING_FC-S_0.1_True_RWALK_1_0_10_25-19-08-01-10-56.pickle'\n",
    "pnn_pickle = PREFIX+'PERMUTE_MNIST_HERDING_FC-S_0.1_True_PNN_0_0_10_25-19-08-02-09-04.pickle'\n",
    "a_gem_pickle = PREFIX+'PERMUTE_MNIST_HERDING_FC-S_0.1_True_A-GEM_0_0_10_25-19-08-01-17-59.pickle'\n",
    "mega_pickle = PREFIX+'PERMUTE_MNIST_HERDING_FC-S_0.1_True_MEGA_0_0_10_25-19-08-01-20-10.pickle'\n",
    "\n",
    "\n",
    "NUM_RUNS = 5\n",
    "MODELS = ['MULTI-TASK', 'VAN', 'EWC', 'MAS', 'RWALK', 'PNN', 'GEM', 'A-GEM', 'MEGA']"
   ]
  },
  {
   "cell_type": "code",
   "execution_count": 20,
   "metadata": {
    "scrolled": false
   },
   "outputs": [],
   "source": [
    "data_mean = dict()\n",
    "\n",
    "populate_data_dict(data_mean, 'MEGA', mega_pickle)\n",
    "populate_data_dict(data_mean, 'VAN', van_pickle)\n",
    "populate_data_dict(data_mean, 'EWC', ewc_pickle)\n",
    "populate_data_dict(data_mean, 'MAS', mas_pickle)\n",
    "populate_data_dict(data_mean, 'RWALK', rwalk_pickle)\n",
    "populate_data_dict(data_mean, 'PROG-NN', pnn_pickle)\n",
    "populate_data_dict(data_mean, 'A-GEM', a_gem_pickle)\n",
    "\n",
    "\n",
    "avg_k_shot_acc = dict()\n",
    "populate_k_shot_acc_dict(data_mean, 'MEGA', avg_k_shot_acc)\n",
    "populate_k_shot_acc_dict(data_mean, 'VAN', avg_k_shot_acc)\n",
    "populate_k_shot_acc_dict(data_mean, 'EWC', avg_k_shot_acc)\n",
    "populate_k_shot_acc_dict(data_mean, 'MAS', avg_k_shot_acc)\n",
    "populate_k_shot_acc_dict(data_mean, 'RWALK', avg_k_shot_acc)\n",
    "populate_k_shot_acc_dict(data_mean, 'PROG-NN', avg_k_shot_acc)\n",
    "populate_k_shot_acc_dict(data_mean, 'A-GEM', avg_k_shot_acc)"
   ]
  },
  {
   "cell_type": "code",
   "execution_count": 21,
   "metadata": {
    "scrolled": false
   },
   "outputs": [
    {
     "name": "stdout",
     "output_type": "stream",
     "text": [
      "(5, 17, 74, 17)\n",
      "('MAS', 0.702981173992157)\n",
      "('VAN', 0.47553181648254395)\n",
      "('MEGA', 0.912092924118042)\n",
      "('PROG-NN', 0.935455322265625)\n",
      "('EWC', 0.6868187785148621)\n",
      "('A-GEM', 0.8932164907455444)\n",
      "('RWALK', 0.8560070991516113)\n"
     ]
    },
    {
     "data": {
      "text/plain": [
       "<Figure size 432x288 with 0 Axes>"
      ]
     },
     "metadata": {},
     "output_type": "display_data"
    },
    {
     "data": {
      "image/png": "[encoded data removed]",
      "text/plain": [
       "<Figure size 576x180 with 1 Axes>"
      ]
     },
     "metadata": {
      "needs_background": "light"
     },
     "output_type": "display_data"
    }
   ],
   "source": [
    "#plot_average_accuracy_along_training_path(data_mean, 'iclr_plots/mnist_average_accuracy.pdf')\n",
    "plot_average_accuracy_along_training_path(\"mnist\", data_mean, plot_name='../results/iclr_plots/mnist_average_accuracy.pdf', legend=False)"
   ]
  },
  {
   "cell_type": "markdown",
   "metadata": {},
   "source": [
    "### Average Accuracy and Forgetting Measure"
   ]
  },
  {
   "cell_type": "code",
   "execution_count": 22,
   "metadata": {
    "scrolled": false
   },
   "outputs": [
    {
     "name": "stdout",
     "output_type": "stream",
     "text": [
      "MAS=> Acc: 70.2981162071 (+-1.67382483355), LTR: 3.07751998231 (+-0.198589069282), Fgt: 0.264376252145 (+-0.017920328191), Wst Fgt: 0.594880008698 (+-0.038297128472)\n",
      "VAN=> Acc: 47.553178072 (+-2.379821893), LTR: 5.37534128428 (+-0.194282624275), Fgt: 0.515132504702 (+-0.0255773676522), Wst Fgt: 0.785800004005 (+-0.0230036653673)\n",
      "MEGA=> Acc: 91.2092936039 (+-0.102357696167), LTR: 0.524813756347 (+-0.0171017819206), Fgt: 0.0492162510753 (+-0.00136636393917), Wst Fgt: 0.091739988327 (+-0.00302958697167)\n",
      "PROG-NN=> Acc: 93.5455310345 (+-0.0671211570642), LTR: 0.0 (+-0.0), Fgt: 0.0 (+-0.0), Wst Fgt: 0.0 (+-0.0)\n",
      "EWC=> Acc: 68.6818826199 (+-0.984597634892), LTR: 3.29165122844 (+-0.135180407244), Fgt: 0.284868749604 (+-0.0104478246396), Wst Fgt: 0.599559998512 (+-0.0316094095056)\n",
      "A-GEM=> Acc: 89.3216502666 (+-0.464811266785), LTR: 0.716423734277 (+-0.0485633004611), Fgt: 0.0693162478507 (+-0.0048394609047), Wst Fgt: 0.123680007458 (+-0.010467755777)\n",
      "RWALK=> Acc: 85.6007063389 (+-0.718854655126), LTR: 0.821201258153 (+-0.0817989329981), Fgt: 0.0842487491667 (+-0.00734027212816), Wst Fgt: 0.164920008183 (+-0.0128316097394)\n"
     ]
    }
   ],
   "source": [
    "for key in data_mean:\n",
    "    acc_mean, acc_std = average_acc_stats_across_runs(data_mean[key]['mean'], key)\n",
    "    ltr_mean, ltr_std = average_ltr_across_runs(data_mean[key]['mean'], key)\n",
    "    fgt_mean, fgt_std, wst_fgt_mean, wst_fgt_std = average_fgt_stats_across_runs(data_mean[key]['mean'], key)\n",
    "    print('{}=> Acc: {} (+-{}), LTR: {} (+-{}), Fgt: {} (+-{}), Wst Fgt: {} (+-{})'.format(key, acc_mean, \n",
    "                                                                           acc_std, ltr_mean, ltr_std ,fgt_mean, \n",
    "                                                                           fgt_std, wst_fgt_mean, \n",
    "                                                                           wst_fgt_std))"
   ]
  },
  {
   "cell_type": "markdown",
   "metadata": {},
   "source": [
    "### LCA Measure"
   ]
  },
  {
   "cell_type": "code",
   "execution_count": 23,
   "metadata": {
    "scrolled": true
   },
   "outputs": [
    {
     "name": "stdout",
     "output_type": "stream",
     "text": [
      "LCA_10 classification models:\n",
      "MAS: 0.298288644552 (+-0.00631860095996)\n",
      "VAN: 0.258991705328 (+-0.00584054979001)\n",
      "MEGA: 0.283412646949 (+-0.00439713889582)\n",
      "PROG-NN: 0.197896528393 (+-0.00618755975804)\n",
      "EWC: 0.276265529692 (+-0.00257639864571)\n",
      "A-GEM: 0.277259589583 (+-0.00815996274613)\n",
      "RWALK: 0.319406587481 (+-0.0034139445267)\n",
      "GEM: 0.233861469)\n"
     ]
    }
   ],
   "source": [
    "num_iters = 55000/ 10\n",
    "num_batches = []\n",
    "for iters in range(num_iters):\n",
    "    if (iters < 10) or (iters < 100 and iters % 10 == 0) or (iters % 100 == 0):\n",
    "        num_batches.append(iters)\n",
    "num_batches.append(num_iters)\n",
    "gem_avg_k_shot = np.array([ 0.09812353,  0.1610647 ,  0.17345884,  0.20008238,  0.19457644,\n",
    "        0.23791176,  0.26005882,  0.27361766,  0.30264702,  0.32512945,\n",
    "        0.32201171])\n",
    "\n",
    "BATCHES_WE_CARE = 10\n",
    "num_runs = avg_k_shot_acc['VAN'].shape[0]\n",
    "area_trapz = dict()\n",
    "area_trapz['VAN'] = np.zeros([num_runs, BATCHES_WE_CARE+1])\n",
    "area_trapz['EWC'] = np.zeros([num_runs, BATCHES_WE_CARE+1])\n",
    "area_trapz['RWALK'] = np.zeros([num_runs, BATCHES_WE_CARE+1])\n",
    "area_trapz['MAS'] = np.zeros([num_runs, BATCHES_WE_CARE+1])\n",
    "area_trapz['PROG-NN'] = np.zeros([num_runs, BATCHES_WE_CARE+1])\n",
    "area_trapz['GEM'] = np.zeros(BATCHES_WE_CARE+1)\n",
    "area_trapz['A-GEM'] = np.zeros([num_runs, BATCHES_WE_CARE+1])\n",
    "area_trapz['MEGA'] = np.zeros([num_runs, BATCHES_WE_CARE+1])\n",
    "\n",
    "for run in range(num_runs):\n",
    "    for measure_upto in range(1, BATCHES_WE_CARE+2):\n",
    "        batches_upto = num_batches[:measure_upto]\n",
    "        if measure_upto == 1:\n",
    "            area_trapz['VAN'][run][measure_upto-1] = avg_k_shot_acc['VAN'][run][0]\n",
    "            area_trapz['EWC'][run][measure_upto-1] = avg_k_shot_acc['EWC'][run][0]\n",
    "            area_trapz['RWALK'][run][measure_upto-1] = avg_k_shot_acc['RWALK'][run][0]\n",
    "            area_trapz['MAS'][run][measure_upto-1] = avg_k_shot_acc['MAS'][run][0]\n",
    "            area_trapz['PROG-NN'][run][measure_upto-1] = avg_k_shot_acc['PROG-NN'][run][0]\n",
    "            area_trapz['GEM'][measure_upto-1] = gem_avg_k_shot[0]\n",
    "            area_trapz['A-GEM'][run][measure_upto-1] = avg_k_shot_acc['A-GEM'][run][0]\n",
    "            area_trapz['MEGA'][run][measure_upto-1] = avg_k_shot_acc['MEGA'][run][0]\n",
    "        else:\n",
    "            # Using trapezoidal rule\n",
    "            max_acc = np.ones_like(batches_upto)\n",
    "            max_area_trapz = np.trapz(max_acc, batches_upto)\n",
    "            area_trapz['VAN'][run][measure_upto-1] = np.trapz(avg_k_shot_acc['VAN'][run][:measure_upto], batches_upto)/ max_area_trapz\n",
    "            area_trapz['EWC'][run][measure_upto-1] = np.trapz(avg_k_shot_acc['EWC'][run][:measure_upto], batches_upto)/ max_area_trapz\n",
    "            area_trapz['RWALK'][run][measure_upto-1] = np.trapz(avg_k_shot_acc['RWALK'][run][:measure_upto], batches_upto)/ max_area_trapz\n",
    "            area_trapz['MAS'][run][measure_upto-1] = np.trapz(avg_k_shot_acc['MAS'][run][:measure_upto], batches_upto)/ max_area_trapz\n",
    "            area_trapz['PROG-NN'][run][measure_upto-1] = np.trapz(avg_k_shot_acc['PROG-NN'][run][:measure_upto], batches_upto)/ max_area_trapz\n",
    "            area_trapz['GEM'][measure_upto-1] = np.trapz(gem_avg_k_shot[:measure_upto], batches_upto)/ max_area_trapz\n",
    "            area_trapz['A-GEM'][run][measure_upto-1] = np.trapz(avg_k_shot_acc['A-GEM'][run][:measure_upto], batches_upto)/ max_area_trapz\n",
    "            area_trapz['MEGA'][run][measure_upto-1] = np.trapz(avg_k_shot_acc['MEGA'][run][:measure_upto], batches_upto)/ max_area_trapz\n",
    "print('LCA_10 classification models:')\n",
    "for key in area_trapz:\n",
    "    if key == 'GEM':\n",
    "        print('{}: {})'.format(key, area_trapz[key][10]))\n",
    "    else:\n",
    "        lca_10 = area_trapz[key][:, 10]\n",
    "        print('{}: {} (+-{})'.format(key, lca_10.mean(), lca_10.std()))"
   ]
  },
  {
   "cell_type": "code",
   "execution_count": 36,
   "metadata": {
    "scrolled": false
   },
   "outputs": [
    {
     "data": {
      "image/png": "[encoded data removed]",
      "text/plain": [
       "<Figure size 576x360 with 1 Axes>"
      ]
     },
     "metadata": {
      "needs_background": "light"
     },
     "output_type": "display_data"
    }
   ],
   "source": [
    "batches_we_care = np.arange(BATCHES_WE_CARE+1)\n",
    "fig = plt.figure(figsize=(8, 5))\n",
    "ax = fig.add_axes([0.15, 0.21, 0.6, 0.75])\n",
    "\n",
    "\n",
    "\n",
    "ax.plot(batches_we_care, np.mean(area_trapz['VAN'], axis=0),'C0', lw=2, label='VAN')\n",
    "ax.plot(batches_we_care, np.mean(area_trapz['EWC'], axis=0),'-m', lw=2, label='EWC')\n",
    "ax.plot(batches_we_care, np.mean(area_trapz['RWALK'], axis=0),'-g', lw=2, label='RWALK')\n",
    "ax.plot(batches_we_care, np.mean(area_trapz['MAS'], axis=0),'-y', lw=2, label='MAS')\n",
    "ax.plot(batches_we_care, np.mean(area_trapz['PROG-NN'], axis=0),'C5--', lw=2, label='PROG-NN')\n",
    "ax.plot(batches_we_care, area_trapz['GEM'],'-C1', lw=2, label='GEM')\n",
    "ax.plot(batches_we_care, np.mean(area_trapz['A-GEM'], axis=0),'-C9', lw=2, label='A-GEM')\n",
    "ax.plot(batches_we_care, np.mean(area_trapz['MEGA'], axis=0),'-r', marker='^', markersize=7, lw=2, label='MEGA')\n",
    "\n",
    "\n",
    "#colors = {'MULTI-TASK':'-k', 'VAN': 'C0', 'ICARL':'C1', 'EWC': '-m', 'PI': '-b', 'MAS': '-y', \n",
    "              #'RWALK':'-g', 'PROG-NN':'C5--', 'GEM':'C1', 'A-GEM':'-C9', 'MER': 'C6', 'MEGA': '-r', 'MER': 'C3'}\n",
    "    \n",
    "        \n",
    "\n",
    "ax.set_xlabel('Batches', size=20)\n",
    "ax.set_ylabel('LCA', size=20)\n",
    "plt.xticks(batches_we_care)\n",
    "#ax.legend(bbox_to_anchor=(1, 1), loc=2, borderaxespad=0.2)\n",
    "#ax.legend(loc='best', borderaxespad=0.2)\n",
    "plt.grid()\n",
    "#plt.show()\n",
    "plt.savefig('../results/iclr_plots/fam_mnist.pdf')"
   ]
  },
  {
   "cell_type": "markdown",
   "metadata": {},
   "source": [
    "## CIFAR-100 (ResNet-18)"
   ]
  },
  {
   "cell_type": "code",
   "execution_count": 33,
   "metadata": {},
   "outputs": [],
   "source": [
    "PREFIX = '../results/cifar/'\n",
    "\n",
    "van_pickle = PREFIX+'SPLIT_CIFAR_HERDING_RESNET-S_True_VAN_0_0_0_01_10_13-19-07-28-11-38.pickle'\n",
    "ewc_pickle = PREFIX+'SPLIT_CIFAR_HERDING_RESNET-S_True_EWC_10_0_0_03_10_13-19-07-28-12-05.pickle'\n",
    "pi_pickle = PREFIX+'SPLIT_CIFAR_HERDING_RESNET-S_True_PI_0_1_0_01_10_13-19-07-28-12-46.pickle'\n",
    "mas_pickle = PREFIX+'SPLIT_CIFAR_HERDING_RESNET-S_True_MAS_0_1_0_03_10_13-19-07-28-13-24.pickle'\n",
    "rwalk_pickle = PREFIX+'SPLIT_CIFAR_HERDING_RESNET-S_True_RWALK_1_0_0_03_10_13-19-07-28-14-04.pickle'\n",
    "pnn_pickle = PREFIX+'SPLIT_CIFAR_HERDING_RESNET-S_True_PNN_0_0_0_03_10_13-19-07-28-14-51.pickle'\n",
    "\n",
    "a_gem_pickle = PREFIX+'SPLIT_CIFAR_HERDING_RESNET-S_True_A-GEM_0_0_0_03_10_13-19-07-28-16-55.pickle'\n",
    "mega_pickle = PREFIX+'SPLIT_CIFAR_HERDING_RESNET-S_True_MEGA_0_0_0_03_10_13-19-07-28-17-53.pickle'\n",
    "MODELS = ['MULTI-TASK', 'VAN', 'EWC', 'PI', 'MAS', 'RWALK', 'GEM', 'ICARL', 'PNN','A-GEM', 'MEGA', 'MER']"
   ]
  },
  {
   "cell_type": "code",
   "execution_count": 34,
   "metadata": {
    "scrolled": false
   },
   "outputs": [],
   "source": [
    "data_mean = dict()\n",
    "populate_data_dict(data_mean, 'VAN', van_pickle)\n",
    "populate_data_dict(data_mean, 'EWC', ewc_pickle)\n",
    "populate_data_dict(data_mean, 'PI', pi_pickle)\n",
    "populate_data_dict(data_mean, 'RWALK', rwalk_pickle)\n",
    "populate_data_dict(data_mean, 'MAS', mas_pickle)\n",
    "populate_data_dict(data_mean, 'PROG-NN', pnn_pickle)\n",
    "populate_data_dict(data_mean, 'A-GEM', a_gem_pickle)\n",
    "populate_data_dict(data_mean, 'MEGA', mega_pickle)\n",
    "\n",
    "avg_k_shot_acc = dict()\n",
    "populate_k_shot_acc_dict(data_mean, 'VAN', avg_k_shot_acc)\n",
    "populate_k_shot_acc_dict(data_mean, 'PROG-NN', avg_k_shot_acc)\n",
    "populate_k_shot_acc_dict(data_mean, 'EWC', avg_k_shot_acc)\n",
    "populate_k_shot_acc_dict(data_mean, 'PI', avg_k_shot_acc)\n",
    "populate_k_shot_acc_dict(data_mean, 'RWALK', avg_k_shot_acc)\n",
    "populate_k_shot_acc_dict(data_mean, 'MAS', avg_k_shot_acc)\n",
    "\n",
    "populate_k_shot_acc_dict(data_mean, 'A-GEM', avg_k_shot_acc)\n",
    "populate_k_shot_acc_dict(data_mean, 'MEGA', avg_k_shot_acc)"
   ]
  },
  {
   "cell_type": "code",
   "execution_count": 35,
   "metadata": {
    "scrolled": true
   },
   "outputs": [
    {
     "name": "stdout",
     "output_type": "stream",
     "text": [
      "(5, 17, 26, 17)\n",
      "('MAS', 0.4235294108881669)\n",
      "('VAN', 0.4044235292602988)\n",
      "('MEGA', 0.6612470584757187)\n",
      "('PROG-NN', 0.5979294100228478)\n",
      "('EWC', 0.426729410536149)\n",
      "('A-GEM', 0.6128000006956213)\n",
      "('RWALK', 0.4210823513129178)\n",
      "('PI', 0.48992941081523894)\n"
     ]
    },
    {
     "data": {
      "text/plain": [
       "<Figure size 432x288 with 0 Axes>"
      ]
     },
     "metadata": {},
     "output_type": "display_data"
    },
    {
     "data": {
      "image/png": "[encoded data removed]",
      "text/plain": [
       "<Figure size 576x180 with 1 Axes>"
      ]
     },
     "metadata": {
      "needs_background": "light"
     },
     "output_type": "display_data"
    }
   ],
   "source": [
    "plot_average_accuracy_along_training_path(\"cifar\", data_mean, plot_name='../results/iclr_plots/cifar_average_accuracy.pdf', legend=False)\n",
    "\n",
    "\n",
    "#plot_average_accuracy_along_training_path(data_mean, is_cifar=True)"
   ]
  },
  {
   "cell_type": "markdown",
   "metadata": {},
   "source": [
    "### Average Accuracy and Forgetting Measure"
   ]
  },
  {
   "cell_type": "code",
   "execution_count": 36,
   "metadata": {
    "scrolled": false
   },
   "outputs": [
    {
     "name": "stdout",
     "output_type": "stream",
     "text": [
      "MAS=> Acc: 42.3529410888 (+-3.51641519117), LTR: 2.51327503286 (+-0.330177538443), Fgt: 0.261175004207 (+-0.0304883791199), Wst Fgt: 0.458800011873 (+-0.0723613160023)\n",
      "VAN=> Acc: 40.442352926 (+-1.0161218445), LTR: 2.61304997765 (+-0.174101299614), Fgt: 0.271249997988 (+-0.00669048014318), Wst Fgt: 0.447600001097 (+-0.0485864056877)\n",
      "MEGA=> Acc: 66.1247058476 (+-1.9371094336), LTR: 0.355775004625 (+-0.114462741524), Fgt: 0.0568500012159 (+-0.0150624526285), Wst Fgt: 0.110000002384 (+-0.0340117650041)\n",
      "PROG-NN=> Acc: 59.7929410023 (+-1.23082878472), LTR: 0.0 (+-0.0), Fgt: 0.0 (+-0.0), Wst Fgt: 0.0 (+-0.0)\n",
      "EWC=> Acc: 42.6729410536 (+-4.23804717634), LTR: 2.49347499516 (+-0.427512733571), Fgt: 0.256224998087 (+-0.0396056648477), Wst Fgt: 0.434400001168 (+-0.0695861949392)\n",
      "A-GEM=> Acc: 61.2800000696 (+-1.88694141024), LTR: 0.643224970251 (+-0.124609001682), Fgt: 0.0884999990463 (+-0.017716519506), Wst Fgt: 0.173200005293 (+-0.0334089920851)\n",
      "RWALK=> Acc: 42.1082351313 (+-3.69530441349), LTR: 2.63955001738 (+-0.379074951614), Fgt: 0.271825001203 (+-0.0326324818174), Wst Fgt: 0.479199999571 (+-0.0691155438365)\n",
      "PI=> Acc: 48.9929410815 (+-3.42362706951), LTR: 1.51255002096 (+-0.296011778672), Fgt: 0.153425000422 (+-0.0311310304404), Wst Fgt: 0.295600003004 (+-0.0346040399999)\n"
     ]
    }
   ],
   "source": [
    "for key in data_mean:\n",
    "    acc_mean, acc_std = average_acc_stats_across_runs(data_mean[key]['mean'], key)\n",
    "    ltr_mean, ltr_std = average_ltr_across_runs(data_mean[key]['mean'], key)\n",
    "    fgt_mean, fgt_std, wst_fgt_mean, wst_fgt_std = average_fgt_stats_across_runs(data_mean[key]['mean'], key)\n",
    "    print('{}=> Acc: {} (+-{}), LTR: {} (+-{}), Fgt: {} (+-{}), Wst Fgt: {} (+-{})'.format(key, acc_mean, \n",
    "                                                                           acc_std, ltr_mean, ltr_std ,fgt_mean, \n",
    "                                                                           fgt_std, wst_fgt_mean, \n",
    "                                                                           wst_fgt_std))"
   ]
  },
  {
   "cell_type": "markdown",
   "metadata": {},
   "source": [
    "### LCA Measure"
   ]
  },
  {
   "cell_type": "code",
   "execution_count": 37,
   "metadata": {
    "scrolled": true
   },
   "outputs": [
    {
     "name": "stdout",
     "output_type": "stream",
     "text": [
      "LCA_10 classification models:\n",
      "MAS: 0.331914121211 (+-0.0106895051337)\n",
      "VAN: 0.308788233995 (+-0.0110549337352)\n",
      "MEGA: 0.374775295854 (+-0.0121899702259)\n",
      "PROG-NN: 0.208408239782 (+-0.00237930917224)\n",
      "EWC: 0.336034116745 (+-0.0107448068129)\n",
      "A-GEM: 0.349764707983 (+-0.0130918566648)\n",
      "RWALK: 0.33408706218 (+-0.012930511806)\n",
      "PI: 0.309302355647 (+-0.0113032327696)\n",
      "GEM: 0.3614294105)\n"
     ]
    }
   ],
   "source": [
    "num_iters = 2500/10\n",
    "num_batches = []\n",
    "for iters in range(num_iters):\n",
    "    if (iters <= 20) or (iters > 20 and iters % 50 == 0):\n",
    "        num_batches.append(iters)\n",
    "num_batches.append(num_iters)\n",
    "\n",
    "gem_avg_k_shot = np.array([0.20129414,  0.27117646,  0.3057647 ,  0.35011765,  \n",
    "                           0.368, 0.38694119,  0.36729413,  0.40600002,  0.4105882 ,  0.43294117, \n",
    "                             0.42964703])\n",
    "BATCHES_WE_CARE = 10\n",
    "num_runs = avg_k_shot_acc['VAN'].shape[0]\n",
    "area_trapz = dict()\n",
    "area_trapz['VAN'] = np.zeros([num_runs, BATCHES_WE_CARE+1])\n",
    "area_trapz['EWC'] = np.zeros([num_runs, BATCHES_WE_CARE+1])\n",
    "area_trapz['PI'] = np.zeros([num_runs, BATCHES_WE_CARE+1])\n",
    "area_trapz['RWALK'] = np.zeros([num_runs, BATCHES_WE_CARE+1])\n",
    "area_trapz['MAS'] = np.zeros([num_runs, BATCHES_WE_CARE+1])\n",
    "\n",
    "area_trapz['PROG-NN'] = np.zeros([num_runs, BATCHES_WE_CARE+1])\n",
    "area_trapz['GEM'] = np.zeros(BATCHES_WE_CARE+1)\n",
    "area_trapz['A-GEM'] = np.zeros([num_runs, BATCHES_WE_CARE+1])\n",
    "area_trapz['MEGA'] = np.zeros([num_runs, BATCHES_WE_CARE+1])\n",
    "\n",
    "\n",
    "for run in range(num_runs):\n",
    "    for measure_upto in range(1, BATCHES_WE_CARE+2):\n",
    "        batches_upto = num_batches[:measure_upto]\n",
    "        if measure_upto == 1:\n",
    "            area_trapz['VAN'][run][measure_upto-1] = avg_k_shot_acc['VAN'][run][0]\n",
    "            area_trapz['EWC'][run][measure_upto-1] = avg_k_shot_acc['EWC'][run][0]\n",
    "            area_trapz['PI'][run][measure_upto-1] = avg_k_shot_acc['PI'][run][0]\n",
    "            area_trapz['RWALK'][run][measure_upto-1] = avg_k_shot_acc['RWALK'][run][0]\n",
    "            area_trapz['MAS'][run][measure_upto-1] = avg_k_shot_acc['MAS'][run][0]\n",
    "            area_trapz['PROG-NN'][run][measure_upto-1] = avg_k_shot_acc['PROG-NN'][run][0]\n",
    "            area_trapz['GEM'][measure_upto-1] = gem_avg_k_shot[0]\n",
    "            area_trapz['A-GEM'][run][measure_upto-1] = avg_k_shot_acc['A-GEM'][run][0]\n",
    "            area_trapz['MEGA'][run][measure_upto-1] = avg_k_shot_acc['MEGA'][run][0]\n",
    "        else:\n",
    "            # Using trapezoidal rule\n",
    "            max_acc = np.ones_like(batches_upto)\n",
    "            max_area_trapz = np.trapz(max_acc, batches_upto)\n",
    "            area_trapz['VAN'][run][measure_upto-1] = np.trapz(avg_k_shot_acc['VAN'][run][:measure_upto], batches_upto)/ max_area_trapz\n",
    "            area_trapz['EWC'][run][measure_upto-1] = np.trapz(avg_k_shot_acc['EWC'][run][:measure_upto], batches_upto)/ max_area_trapz\n",
    "            area_trapz['PI'][run][measure_upto-1] = np.trapz(avg_k_shot_acc['PI'][run][:measure_upto], batches_upto)/ max_area_trapz\n",
    "            area_trapz['RWALK'][run][measure_upto-1] = np.trapz(avg_k_shot_acc['RWALK'][run][:measure_upto], batches_upto)/ max_area_trapz\n",
    "            area_trapz['MAS'][run][measure_upto-1] = np.trapz(avg_k_shot_acc['MAS'][run][:measure_upto], batches_upto)/ max_area_trapz\n",
    "            area_trapz['PROG-NN'][run][measure_upto-1] = np.trapz(avg_k_shot_acc['PROG-NN'][run][:measure_upto], batches_upto)/ max_area_trapz\n",
    "            area_trapz['GEM'][measure_upto-1] = np.trapz(gem_avg_k_shot[:measure_upto], batches_upto)/ max_area_trapz\n",
    "            area_trapz['A-GEM'][run][measure_upto-1] = np.trapz(avg_k_shot_acc['A-GEM'][run][:measure_upto], batches_upto)/ max_area_trapz\n",
    "            area_trapz['MEGA'][run][measure_upto-1] = np.trapz(avg_k_shot_acc['MEGA'][run][:measure_upto], batches_upto)/ max_area_trapz\n",
    "            \n",
    "print('LCA_10 classification models:')\n",
    "for key in area_trapz:\n",
    "    if key == 'GEM':\n",
    "        print('{}: {})'.format(key, area_trapz[key][10]))\n",
    "    else:\n",
    "        lca_10 = area_trapz[key][:, 10]\n",
    "        print('{}: {} (+-{})'.format(key, lca_10.mean(), lca_10.std()))"
   ]
  },
  {
   "cell_type": "code",
   "execution_count": 38,
   "metadata": {
    "scrolled": false
   },
   "outputs": [
    {
     "data": {
      "image/png": "[encoded data removed]",
      "text/plain": [
       "<Figure size 576x360 with 1 Axes>"
      ]
     },
     "metadata": {
      "needs_background": "light"
     },
     "output_type": "display_data"
    }
   ],
   "source": [
    "batches_we_care = np.arange(BATCHES_WE_CARE+1)\n",
    "fig = plt.figure(figsize=(8, 5))\n",
    "ax = fig.add_axes([0.15, 0.21, 0.6, 0.75])\n",
    "\n",
    "\n",
    "ax.plot(batches_we_care, np.mean(area_trapz['VAN'], axis=0),'C0', lw=2, label='VAN')\n",
    "ax.plot(batches_we_care, np.mean(area_trapz['EWC'], axis=0),'-m', lw=2, label='EWC')\n",
    "ax.plot(batches_we_care, np.mean(area_trapz['RWALK'], axis=0),'-g', lw=2, label='RWALK')\n",
    "ax.plot(batches_we_care, np.mean(area_trapz['MAS'], axis=0),'-y', lw=2, label='MAS')\n",
    "ax.plot(batches_we_care, np.mean(area_trapz['PROG-NN'], axis=0),'C5--', lw=2, label='PROG-NN')\n",
    "ax.plot(batches_we_care, area_trapz['GEM'],'-C1', lw=2, label='GEM')\n",
    "ax.plot(batches_we_care, np.mean(area_trapz['A-GEM'], axis=0),'-C9', lw=2, label='A-GEM')\n",
    "ax.plot(batches_we_care, np.mean(area_trapz['MEGA'], axis=0),'-r', marker='^', markersize=7, lw=2, label='MEGA')\n",
    "\n",
    "ax.set_xlabel('Batches', size=20)\n",
    "ax.set_ylabel('LCA', size=20)\n",
    "plt.xticks(batches_we_care)\n",
    "#plt.legend(loc=\"lower left\")\n",
    "plt.grid()\n",
    "#plt.show()\n",
    "plt.savefig('../results/iclr_plots/fam_cifar.pdf')"
   ]
  },
  {
   "cell_type": "markdown",
   "metadata": {},
   "source": [
    "# SPLIT CUB"
   ]
  },
  {
   "cell_type": "code",
   "execution_count": 39,
   "metadata": {},
   "outputs": [],
   "source": [
    "# 10 runs\n",
    "PREFIX = PREFIX = '../results/cub/ohot/'\n",
    "\n",
    "van_ohot_pickle = PREFIX+'SPLIT_CUB_ONE_HOT_HERDING_False_RESNET-B_True_VAN_0_0_03_10_False_5-19-07-30-22-09.pickle'\n",
    "ewc_ohot_pickle = PREFIX+'SPLIT_CUB_ONE_HOT_HERDING_False_RESNET-B_True_EWC_1_0_03_10_False_5-19-07-31-07-38.pickle'\n",
    "pi_ohot_pickle = PREFIX+'SPLIT_CUB_ONE_HOT_HERDING_False_RESNET-B_True_PI_0_1_0_03_10_False_5-19-07-31-20-36.pickle'\n",
    "mas_ohot_pickle = PREFIX+'SPLIT_CUB_ONE_HOT_HERDING_False_RESNET-B_True_MAS_0_1_0_03_10_False_5-19-08-01-04-18.pickle'\n",
    "rwalk_ohot_pickle = PREFIX+'SPLIT_CUB_ONE_HOT_HERDING_False_RESNET-B_True_MAS_0_1_0_03_10_False_5-19-08-01-04-18.pickle'\n",
    "a_gem_ohot_pickle = PREFIX+ 'SPLIT_CUB_ONE_HOT_HERDING_False_RESNET-B_True_A-GEM_0_0_03_10_False_5-19-07-29-11-25.pickle'\n",
    "mega_ohot_pickle = PREFIX+ 'SPLIT_CUB_ONE_HOT_HERDING_False_RESNET-B_True_MEGA_0_0_03_10_False_5-19-07-30-09-25.pickle'\n",
    "\n",
    "MODELS = ['VAN', 'EWC', 'PI', 'RWALK', 'MAS', 'A-GEM', 'MEGA']"
   ]
  },
  {
   "cell_type": "code",
   "execution_count": 42,
   "metadata": {
    "scrolled": false
   },
   "outputs": [],
   "source": [
    "# Dicts to store experiments data\n",
    "data_ohot_mean = dict()\n",
    "data_zst_mean = dict()\n",
    "data_hybrid_mean = dict()\n",
    "\n",
    "populate_data_dict(data_ohot_mean, 'VAN', van_ohot_pickle)\n",
    "populate_data_dict(data_ohot_mean, 'EWC', ewc_ohot_pickle)\n",
    "populate_data_dict(data_ohot_mean, 'PI', pi_ohot_pickle)\n",
    "populate_data_dict(data_ohot_mean, 'RWALK', rwalk_ohot_pickle)\n",
    "populate_data_dict(data_ohot_mean, 'MAS', mas_ohot_pickle)\n",
    "populate_data_dict(data_ohot_mean, 'A-GEM', a_gem_ohot_pickle)\n",
    "populate_data_dict(data_ohot_mean, 'MEGA', mega_ohot_pickle)\n",
    "\n",
    "\n",
    "# Dicts to store the average k-shot acc\n",
    "avg_k_shot_ohot_acc = dict()\n",
    "avg_k_shot_zst_acc = dict()\n",
    "avg_k_shot_hybrid_acc = dict()\n",
    "\n",
    "populate_k_shot_acc_dict(data_ohot_mean, 'VAN', avg_k_shot_ohot_acc)\n",
    "populate_k_shot_acc_dict(data_ohot_mean, 'EWC', avg_k_shot_ohot_acc)\n",
    "populate_k_shot_acc_dict(data_ohot_mean, 'PI', avg_k_shot_ohot_acc)\n",
    "populate_k_shot_acc_dict(data_ohot_mean, 'RWALK', avg_k_shot_ohot_acc)\n",
    "populate_k_shot_acc_dict(data_ohot_mean, 'MAS', avg_k_shot_ohot_acc)\n",
    "populate_k_shot_acc_dict(data_ohot_mean, 'A-GEM', avg_k_shot_ohot_acc)\n",
    "populate_k_shot_acc_dict(data_ohot_mean, 'MEGA', avg_k_shot_ohot_acc)\n"
   ]
  },
  {
   "cell_type": "code",
   "execution_count": 43,
   "metadata": {},
   "outputs": [
    {
     "name": "stdout",
     "output_type": "stream",
     "text": [
      "(10, 17, 15, 17)\n",
      "('MAS', 0.5510913743127354)\n",
      "('VAN', 0.5463094481580406)\n",
      "('MEGA', 0.8053345630482345)\n",
      "('EWC', 0.5435683268677961)\n",
      "('A-GEM', 0.6216536351308133)\n",
      "('RWALK', 0.5510913743127354)\n",
      "('PI', 0.5548973909292219)\n"
     ]
    },
    {
     "data": {
      "text/plain": [
       "<Figure size 432x288 with 0 Axes>"
      ]
     },
     "metadata": {},
     "output_type": "display_data"
    },
    {
     "data": {
      "image/png": "[encoded data removed]",
      "text/plain": [
       "<Figure size 576x180 with 1 Axes>"
      ]
     },
     "metadata": {
      "needs_background": "light"
     },
     "output_type": "display_data"
    }
   ],
   "source": [
    "plot_average_accuracy_along_training_path(\"cub\", data_ohot_mean,  plot_name='../results/iclr_plots/cub_average_accuracy.pdf', legend=False)"
   ]
  },
  {
   "cell_type": "markdown",
   "metadata": {},
   "source": [
    "### Average Accuracy and Forgetting"
   ]
  },
  {
   "cell_type": "code",
   "execution_count": 45,
   "metadata": {},
   "outputs": [
    {
     "name": "stdout",
     "output_type": "stream",
     "text": [
      "Average Acc forsimple classification models:\n",
      "MAS=> Acc: 54.1173307478 (+-1.71729727393), LTR: 0.889688641571 (+-0.126232615563), Fgt: 0.125488829152 (+-0.0136532316107), Wst Fgt: 0.27411189906 (+-0.0549213456617)\n",
      "VAN=> Acc: 53.8878406653 (+-1.99855134701), LTR: 0.976319991699 (+-0.215620332754), Fgt: 0.133043928549 (+-0.0204560501655), Wst Fgt: 0.291942694392 (+-0.0315631810685)\n",
      "MEGA=> Acc: 80.581514361 (+-1.94378694553), LTR: 0.00225289614554 (+-0.00280834460726), Fgt: 0.0118459829927 (+-0.0170205462299), Wst Fgt: 0.0636865104701 (+-0.0209076088226)\n",
      "EWC=> Acc: 53.5550989645 (+-1.67465808556), LTR: 1.02113733175 (+-0.210049382087), Fgt: 0.140220570822 (+-0.0248126340315), Wst Fgt: 0.280522560162 (+-0.0543765164306)\n",
      "A-GEM=> Acc: 61.8202094222 (+-3.71660284403), LTR: 0.456462024892 (+-0.174070458769), Fgt: 0.0769848975306 (+-0.0208790179242), Wst Fgt: 0.196427203498 (+-0.0365842171811)\n",
      "RWALK=> Acc: 54.1173307478 (+-1.71729727393), LTR: 0.889688641571 (+-0.126232615563), Fgt: 0.125488829152 (+-0.0136532316107), Wst Fgt: 0.27411189906 (+-0.0549213456617)\n",
      "PI=> Acc: 55.0359825843 (+-3.0481571472), LTR: 0.888102712896 (+-0.198732920747), Fgt: 0.119541103859 (+-0.0268557784542), Wst Fgt: 0.283225883288 (+-0.0875913624279)\n"
     ]
    }
   ],
   "source": [
    "print('Average Acc forsimple classification models:')\n",
    "for key in data_ohot_mean:\n",
    "    acc_mean, acc_std = average_acc_stats_across_runs(data_ohot_mean[key]['mean'][:-1], key)\n",
    "    ltr_mean, ltr_std = average_ltr_across_runs(data_ohot_mean[key]['mean'][:-1], key)\n",
    "    fgt_mean, fgt_std, wst_fgt_mean, wst_fgt_std = average_fgt_stats_across_runs(data_ohot_mean[key]['mean'][:-1], key)\n",
    "    print('{}=> Acc: {} (+-{}), LTR: {} (+-{}), Fgt: {} (+-{}), Wst Fgt: {} (+-{})'.format(key, acc_mean, \n",
    "                                                                           acc_std, ltr_mean, ltr_std ,fgt_mean, \n",
    "                                                                           fgt_std, wst_fgt_mean, \n",
    "                                                                           wst_fgt_std))    "
   ]
  },
  {
   "cell_type": "markdown",
   "metadata": {},
   "source": [
    "### LCA Measure"
   ]
  },
  {
   "cell_type": "code",
   "execution_count": 46,
   "metadata": {
    "scrolled": true
   },
   "outputs": [
    {
     "name": "stdout",
     "output_type": "stream",
     "text": [
      "LCA_10 classification models:\n",
      "MAS: 0.29250893116 (+-0.00869412065463)\n",
      "VAN: 0.29209871918 (+-0.00801996103074)\n",
      "MEGA: 0.310836722702 (+-0.00993455058314)\n",
      "EWC: 0.29182506457 (+-0.00980059373231)\n",
      "A-GEM: 0.301859001368 (+-0.0109489103926)\n",
      "RWALK: 0.29250893116 (+-0.00869412065463)\n",
      "PI: 0.292470855713 (+-0.0100817599249)\n"
     ]
    }
   ],
   "source": [
    "# Using trapezoidal rule\n",
    "EXAMPLES_PER_TASK = 300\n",
    "BATCH_SIZE = 10\n",
    "num_iters = (EXAMPLES_PER_TASK + BATCH_SIZE - 1) // BATCH_SIZE\n",
    "num_batches = []\n",
    "for iters in range(num_iters):\n",
    "    if (iters < 10) or (iters % 5 == 0):\n",
    "        num_batches.append(iters)\n",
    "num_batches.append(num_iters)\n",
    "    \n",
    "BATCHES_WE_CARE = 10\n",
    "\n",
    "num_runs = avg_k_shot_ohot_acc['VAN'].shape[0]\n",
    "\n",
    "area_ohot_trapz = dict()\n",
    "area_zst_trapz = dict()\n",
    "\n",
    "area_ohot_trapz['VAN'] = np.zeros([num_runs, BATCHES_WE_CARE+1])\n",
    "area_ohot_trapz['EWC'] = np.zeros([num_runs,BATCHES_WE_CARE+1])\n",
    "area_ohot_trapz['PI'] = np.zeros([num_runs,BATCHES_WE_CARE+1])\n",
    "area_ohot_trapz['RWALK'] = np.zeros([num_runs,BATCHES_WE_CARE+1])\n",
    "area_ohot_trapz['MAS'] = np.zeros([num_runs,BATCHES_WE_CARE+1])\n",
    "area_ohot_trapz['A-GEM'] = np.zeros([num_runs,BATCHES_WE_CARE+1])\n",
    "area_ohot_trapz['MEGA'] = np.zeros([num_runs,BATCHES_WE_CARE+1])\n",
    "\n",
    "\n",
    "for run in range(num_runs):\n",
    "    for measure_upto in range(1, BATCHES_WE_CARE+2):\n",
    "        batches_upto = num_batches[:measure_upto]\n",
    "        max_acc = np.ones_like(batches_upto)\n",
    "        max_area_trapz = np.trapz(max_acc, batches_upto)\n",
    "        if measure_upto == 1:\n",
    "            area_ohot_trapz['VAN'][run][measure_upto-1] = avg_k_shot_ohot_acc['VAN'][run][0]\n",
    "            area_ohot_trapz['EWC'][run][measure_upto-1] = avg_k_shot_ohot_acc['EWC'][run][0]\n",
    "            area_ohot_trapz['PI'][run][measure_upto-1] = avg_k_shot_ohot_acc['PI'][run][0]\n",
    "            area_ohot_trapz['MAS'][run][measure_upto-1] = avg_k_shot_ohot_acc['MAS'][run][0]\n",
    "            area_ohot_trapz['RWALK'][run][measure_upto-1] = avg_k_shot_ohot_acc['RWALK'][run][0]\n",
    "            area_ohot_trapz['A-GEM'][run][measure_upto-1] = avg_k_shot_ohot_acc['A-GEM'][run][0]\n",
    "            area_ohot_trapz['MEGA'][run][measure_upto-1] = avg_k_shot_ohot_acc['MEGA'][run][0] \n",
    "\n",
    "        else:\n",
    "            area_ohot_trapz['VAN'][run][measure_upto-1] = np.trapz(avg_k_shot_ohot_acc['VAN'][run][:measure_upto], batches_upto)/ max_area_trapz\n",
    "            area_ohot_trapz['PI'][run][measure_upto-1] = np.trapz(avg_k_shot_ohot_acc['PI'][run][:measure_upto], batches_upto)/ max_area_trapz\n",
    "            area_ohot_trapz['RWALK'][run][measure_upto-1] = np.trapz(avg_k_shot_ohot_acc['RWALK'][run][:measure_upto], batches_upto)/ max_area_trapz\n",
    "            area_ohot_trapz['EWC'][run][measure_upto-1] = np.trapz(avg_k_shot_ohot_acc['EWC'][run][:measure_upto], batches_upto)/ max_area_trapz\n",
    "            area_ohot_trapz['MAS'][run][measure_upto-1] = np.trapz(avg_k_shot_ohot_acc['MAS'][run][:measure_upto], batches_upto)/ max_area_trapz\n",
    "            area_ohot_trapz['A-GEM'][run][measure_upto-1] = np.trapz(avg_k_shot_ohot_acc['A-GEM'][run][:measure_upto], batches_upto)/ max_area_trapz\n",
    "            area_ohot_trapz['MEGA'][run][measure_upto-1] = np.trapz(avg_k_shot_ohot_acc['MEGA'][run][:measure_upto], batches_upto)/ max_area_trapz\n",
    "            \n",
    "            \n",
    "print('LCA_10 classification models:')\n",
    "for key in area_ohot_trapz:\n",
    "    lca_10 = area_ohot_trapz[key][:, 10]\n",
    "    print('{}: {} (+-{})'.format(key, lca_10.mean(), lca_10.std()))"
   ]
  },
  {
   "cell_type": "code",
   "execution_count": 47,
   "metadata": {
    "scrolled": false
   },
   "outputs": [
    {
     "data": {
      "image/png": "[encoded data removed]",
      "text/plain": [
       "<Figure size 576x360 with 1 Axes>"
      ]
     },
     "metadata": {
      "needs_background": "light"
     },
     "output_type": "display_data"
    }
   ],
   "source": [
    "batches_we_care = np.arange(BATCHES_WE_CARE+1)\n",
    "fig = plt.figure(figsize=(8, 5))\n",
    "ax = fig.add_axes([0.15, 0.21, 0.6, 0.75])\n",
    "\n",
    "\n",
    "\n",
    "ax.plot(batches_we_care, np.mean(area_ohot_trapz['VAN'], axis=0),'C0', lw=2, label='VAN')\n",
    "ax.plot(batches_we_care, np.mean(area_ohot_trapz['EWC'], axis=0),'-m', lw=2, label='EWC')\n",
    "ax.plot(batches_we_care, np.mean(area_ohot_trapz['RWALK'], axis=0),'-g', lw=2, label='RWALK')\n",
    "ax.plot(batches_we_care, np.mean(area_ohot_trapz['A-GEM'], axis=0),'-C9', lw=2, label='A-GEM')\n",
    "ax.plot(batches_we_care, np.mean(area_ohot_trapz['MEGA'], axis=0),'-r', marker='^', markersize=7, lw=2, label='MEGA')\n",
    "\n",
    "\n",
    "\n",
    "ax.set_xlabel('Batches', size=20)\n",
    "ax.set_ylabel('LCA', size=20)\n",
    "plt.xticks(batches_we_care)\n",
    "\n",
    "plt.grid()\n",
    "#plt.show()\n",
    "plt.savefig('../results/iclr_plots/fam_cub.pdf')\n"
   ]
  },
  {
   "cell_type": "markdown",
   "metadata": {},
   "source": [
    "# SPLIT AWA"
   ]
  },
  {
   "cell_type": "code",
   "execution_count": 48,
   "metadata": {},
   "outputs": [],
   "source": [
    "# 20 Tasks, 10 runs\n",
    "PREFIX = '../results/awa/ohot/'\n",
    "van_ohot_pickle = PREFIX + 'SPLIT_AWA_ONE_HOT_HERDING_False_RESNET-B_True_VAN_0_0_001_10_False_20-19-07-31-09-20.pickle'\n",
    "ewc_ohot_pickle = PREFIX + 'SPLIT_AWA_ONE_HOT_HERDING_False_RESNET-B_True_EWC_100_0_003_10_False_20-19-07-31-09-54.pickle'\n",
    "pi_ohot_pickle = PREFIX + 'SPLIT_AWA_ONE_HOT_HERDING_False_RESNET-B_True_PI_1_0_003_10_False_20-19-07-31-20-54.pickle'\n",
    "rwalk_ohot_pickle = PREFIX + 'SPLIT_AWA_ONE_HOT_HERDING_False_RESNET-B_True_RWALK_10_0_003_10_False_20-19-08-01-09-27.pickle'\n",
    "mas_ohot_pickle = PREFIX + 'SPLIT_AWA_ONE_HOT_HERDING_False_RESNET-B_True_MAS_1_0_003_10_False_20-19-08-02-11-26.pickle'\n",
    "a_gem_ohot_pickle = PREFIX + 'SPLIT_AWA_ONE_HOT_HERDING_False_RESNET-B_True_A-GEM_0_0_01_10_False_20-19-07-29-19-39.pickle'\n",
    "mega_ohot_pickle = PREFIX + 'SPLIT_AWA_ONE_HOT_HERDING_False_RESNET-B_True_MEGA_0_0_01_10_False_20-19-07-30-10-10.pickle'\n",
    "\n",
    "\n",
    "MODELS = ['VAN', 'EWC', 'PI', 'RWALK', 'MAS', 'A-GEM', 'MEGA']"
   ]
  },
  {
   "cell_type": "code",
   "execution_count": 49,
   "metadata": {
    "scrolled": false
   },
   "outputs": [],
   "source": [
    "# Dicts to store experiments data\n",
    "data_ohot_mean = dict()\n",
    "\n",
    "populate_data_dict(data_ohot_mean, 'VAN', van_ohot_pickle)\n",
    "populate_data_dict(data_ohot_mean, 'EWC', ewc_ohot_pickle)\n",
    "populate_data_dict(data_ohot_mean, 'PI', pi_ohot_pickle)\n",
    "populate_data_dict(data_ohot_mean, 'RWALK', rwalk_ohot_pickle)\n",
    "populate_data_dict(data_ohot_mean, 'MAS', mas_ohot_pickle)\n",
    "populate_data_dict(data_ohot_mean, 'A-GEM', a_gem_ohot_pickle)\n",
    "populate_data_dict(data_ohot_mean, 'MEGA', mega_ohot_pickle)\n",
    "\n",
    "\n",
    "# Dicts to store the average k-shot acc\n",
    "avg_k_shot_ohot_acc = dict()\n",
    "batches_per_task_ohot = dict()\n",
    "\n",
    "\n",
    "batches_per_task_ohot['VAN'] = populate_k_shot_acc_dict_with_varying_batches(data_ohot_mean, 'VAN', avg_k_shot_ohot_acc)\n",
    "batches_per_task_ohot['EWC'] = populate_k_shot_acc_dict_with_varying_batches(data_ohot_mean, 'EWC', avg_k_shot_ohot_acc)\n",
    "batches_per_task_ohot['PI'] = populate_k_shot_acc_dict_with_varying_batches(data_ohot_mean, 'PI', avg_k_shot_ohot_acc)\n",
    "batches_per_task_ohot['RWALK'] = populate_k_shot_acc_dict_with_varying_batches(data_ohot_mean, 'RWALK', avg_k_shot_ohot_acc)\n",
    "batches_per_task_ohot['MAS'] = populate_k_shot_acc_dict_with_varying_batches(data_ohot_mean, 'MAS', avg_k_shot_ohot_acc)\n",
    "batches_per_task_ohot['A-GEM'] = populate_k_shot_acc_dict_with_varying_batches(data_ohot_mean, 'A-GEM', avg_k_shot_ohot_acc)\n",
    "batches_per_task_ohot['MEGA'] = populate_k_shot_acc_dict_with_varying_batches(data_ohot_mean, 'MEGA', avg_k_shot_ohot_acc)"
   ]
  },
  {
   "cell_type": "markdown",
   "metadata": {},
   "source": [
    "### Average Accuracy and Forgetting"
   ]
  },
  {
   "cell_type": "code",
   "execution_count": 50,
   "metadata": {
    "scrolled": true
   },
   "outputs": [
    {
     "name": "stdout",
     "output_type": "stream",
     "text": [
      "Average Acc for simple classification models:\n",
      "MAS=> Acc: 33.8319197778 (+-2.98589429797), LTR: 0.6257161997 (+-0.174848117865), Fgt: 0.0789228233842 (+-0.0217119292602), Wst Fgt: 0.21476511671 (+-0.0393422565315)\n",
      "VAN=> Acc: 30.3490062335 (+-2.80888674262), LTR: 0.202084127985 (+-0.0909760383752), Fgt: 0.0356290374569 (+-0.013157100214), Wst Fgt: 0.129925007354 (+-0.054408829161)\n",
      "MEGA=> Acc: 54.2814933362 (+-4.84501292078), LTR: 0.0700410454205 (+-0.114916267456), Fgt: 0.0465692789508 (+-0.0400338655987), Wst Fgt: 0.138391403397 (+-0.0756776163523)\n",
      "EWC=> Acc: 33.4296538341 (+-3.06574558785), LTR: 0.674526152235 (+-0.214237870613), Fgt: 0.0842008617925 (+-0.0208006809725), Wst Fgt: 0.229391548929 (+-0.0413503221868)\n",
      "A-GEM=> Acc: 44.9479897367 (+-2.97105998704), LTR: 0.177771025642 (+-0.0821859372901), Fgt: 0.0459449704193 (+-0.0143333721467), Wst Fgt: 0.138727479631 (+-0.0421760222108)\n",
      "RWALK=> Acc: 33.6270861228 (+-2.63946212766), LTR: 0.641605800739 (+-0.202097518723), Fgt: 0.0813354140028 (+-0.0229590851742), Wst Fgt: 0.218123469084 (+-0.0546570927468)\n",
      "PI=> Acc: 33.8564121315 (+-2.76805736619), LTR: 0.6259009926 (+-0.179738066824), Fgt: 0.0790923952877 (+-0.0217516637645), Wst Fgt: 0.215844938233 (+-0.0418785446026)\n"
     ]
    }
   ],
   "source": [
    "print('Average Acc for simple classification models:')\n",
    "for key in data_ohot_mean:\n",
    "    acc_mean, acc_std = average_acc_stats_across_runs(data_ohot_mean[key]['mean'][:,:,:batches_per_task_ohot[key][-1],:], key)\n",
    "    ltr_mean, ltr_std = average_ltr_across_runs(data_ohot_mean[key]['mean'][:,:,:batches_per_task_ohot[key][-1],:], key)\n",
    "    fgt_mean, fgt_std, wst_fgt_mean, wst_fgt_std = average_fgt_stats_across_runs(data_ohot_mean[key]['mean'][:,:,:batches_per_task_ohot[key][-1],:], key)\n",
    "    print('{}=> Acc: {} (+-{}), LTR: {} (+-{}), Fgt: {} (+-{}), Wst Fgt: {} (+-{})'.format(key, acc_mean, \n",
    "                                                                           acc_std, ltr_mean, ltr_std ,fgt_mean, \n",
    "                                                                           fgt_std, wst_fgt_mean, \n",
    "                                                                           wst_fgt_std))"
   ]
  },
  {
   "cell_type": "code",
   "execution_count": 51,
   "metadata": {},
   "outputs": [
    {
     "name": "stdout",
     "output_type": "stream",
     "text": [
      "(10, 17, 501, 17)\n",
      "('MAS', 0.3383191977776036)\n",
      "('VAN', 0.3034900623350177)\n",
      "('MEGA', 0.5428149333615991)\n",
      "('EWC', 0.3342965383411561)\n",
      "('A-GEM', 0.4494798973671809)\n",
      "('RWALK', 0.33627086122756317)\n",
      "('PI', 0.33856412131504027)\n"
     ]
    },
    {
     "data": {
      "text/plain": [
       "<Figure size 432x288 with 0 Axes>"
      ]
     },
     "metadata": {},
     "output_type": "display_data"
    },
    {
     "data": {
      "image/png": "[encoded data removed]",
      "text/plain": [
       "<Figure size 576x180 with 1 Axes>"
      ]
     },
     "metadata": {
      "needs_background": "light"
     },
     "output_type": "display_data"
    }
   ],
   "source": [
    "plot_average_accuracy_along_training_path(\"awa\", data_ohot_mean, batches_per_task_ohot=batches_per_task_ohot,  plot_name='../results/iclr_plots/awa_average_accuracy.pdf', legend=False)"
   ]
  },
  {
   "cell_type": "markdown",
   "metadata": {},
   "source": [
    "### LCA Measure"
   ]
  },
  {
   "cell_type": "code",
   "execution_count": 72,
   "metadata": {},
   "outputs": [
    {
     "name": "stdout",
     "output_type": "stream",
     "text": [
      "LCA_10 classification models:\n",
      "MAS: 0.257147023976 (+-0.010907028345)\n",
      "VAN: 0.214251398742 (+-0.00821455885745)\n",
      "MEGA: 0.304956278801 (+-0.0151167778487)\n",
      "EWC: 0.257042901069 (+-0.0111783567681)\n",
      "A-GEM: 0.287053715438 (+-0.0120634800104)\n",
      "RWALK: 0.257573325783 (+-0.0109304621229)\n",
      "PI: 0.258598431945 (+-0.0105415626996)\n",
      "\n",
      "\n",
      "\n",
      "\n"
     ]
    }
   ],
   "source": [
    "# Using trapezoidal rule\n",
    "f = open('/Users/XX/Desktop/test_lifelong_learning/dataset_lists/AWA_train_list.txt', 'rb').readlines()\n",
    "NUM_CLASSES = 50\n",
    "NUM_TASKS = 10\n",
    "BATCH_SIZE = 10\n",
    "examples_per_task = np.zeros([NUM_TASKS], dtype=np.int32)\n",
    "for line in f:\n",
    "    img, label = line.split()\n",
    "    label = int(label)\n",
    "    examples_per_task[label//(NUM_CLASSES/ NUM_TASKS)] += 1\n",
    "    \n",
    "num_batches = []\n",
    "for task in examples_per_task:\n",
    "    num_batches_per_task = []\n",
    "    num_iters = (task + BATCH_SIZE - 1)// BATCH_SIZE\n",
    "    for iters in range(num_iters):\n",
    "        if (iters < 20) or (iters % 50 == 0):\n",
    "            num_batches_per_task.append(iters)\n",
    "    num_batches_per_task.append(iters)\n",
    "    if (len(num_batches_per_task) > len(num_batches)):\n",
    "        num_batches = num_batches_per_task\n",
    "        \n",
    "num_runs = avg_k_shot_ohot_acc['VAN'].shape[0]\n",
    "\n",
    "BATCHES_WE_CARE = 10\n",
    "\n",
    "area_ohot_trapz = dict()\n",
    "area_zst_trapz = dict()\n",
    "\n",
    "area_ohot_trapz['VAN'] = np.zeros([num_runs, BATCHES_WE_CARE+1])\n",
    "area_ohot_trapz['EWC'] = np.zeros([num_runs,BATCHES_WE_CARE+1])\n",
    "area_ohot_trapz['PI'] = np.zeros([num_runs,BATCHES_WE_CARE+1])\n",
    "area_ohot_trapz['RWALK'] = np.zeros([num_runs,BATCHES_WE_CARE+1])\n",
    "area_ohot_trapz['MAS'] = np.zeros([num_runs,BATCHES_WE_CARE+1])\n",
    "area_ohot_trapz['A-GEM'] = np.zeros([num_runs,BATCHES_WE_CARE+1])\n",
    "area_ohot_trapz['MEGA'] = np.zeros([num_runs,BATCHES_WE_CARE+1])\n",
    "\n",
    "\n",
    "area_zst_trapz['VAN'] = np.zeros([num_runs,BATCHES_WE_CARE+1])\n",
    "area_zst_trapz['EWC'] = np.zeros([num_runs,BATCHES_WE_CARE+1])\n",
    "area_zst_trapz['MAS'] = np.zeros([num_runs,BATCHES_WE_CARE+1])\n",
    "area_zst_trapz['PI'] = np.zeros([num_runs,BATCHES_WE_CARE+1])\n",
    "area_zst_trapz['RWALK'] = np.zeros([num_runs,BATCHES_WE_CARE+1])\n",
    "area_zst_trapz['A-GEM'] = np.zeros([num_runs,BATCHES_WE_CARE+1])\n",
    "\n",
    "for run in range(num_runs):\n",
    "    for measure_upto in range(1, BATCHES_WE_CARE+2):\n",
    "        batches_upto = num_batches[:measure_upto]\n",
    "        max_acc = np.ones_like(batches_upto)\n",
    "        max_area_trapz = np.trapz(max_acc, batches_upto)\n",
    "        if measure_upto == 1:\n",
    "            area_ohot_trapz['VAN'][run][measure_upto-1] = avg_k_shot_ohot_acc['VAN'][run][0]\n",
    "            area_ohot_trapz['EWC'][run][measure_upto-1] = avg_k_shot_ohot_acc['EWC'][run][0]\n",
    "            area_ohot_trapz['PI'][run][measure_upto-1] = avg_k_shot_ohot_acc['PI'][run][0]\n",
    "            area_ohot_trapz['MAS'][run][measure_upto-1] = avg_k_shot_ohot_acc['MAS'][run][0]\n",
    "            area_ohot_trapz['RWALK'][run][measure_upto-1] = avg_k_shot_ohot_acc['RWALK'][run][0]\n",
    "            area_ohot_trapz['A-GEM'][run][measure_upto-1] = avg_k_shot_ohot_acc['A-GEM'][run][0]\n",
    "            area_ohot_trapz['MEGA'][run][measure_upto-1] = avg_k_shot_ohot_acc['MEGA'][run][0]\n",
    "    \n",
    "        else:\n",
    "            area_ohot_trapz['VAN'][run][measure_upto-1] = np.trapz(avg_k_shot_ohot_acc['VAN'][run][:measure_upto], batches_upto)/ max_area_trapz\n",
    "            area_ohot_trapz['PI'][run][measure_upto-1] = np.trapz(avg_k_shot_ohot_acc['PI'][run][:measure_upto], batches_upto)/ max_area_trapz\n",
    "            area_ohot_trapz['RWALK'][run][measure_upto-1] = np.trapz(avg_k_shot_ohot_acc['RWALK'][run][:measure_upto], batches_upto)/ max_area_trapz\n",
    "            area_ohot_trapz['MAS'][run][measure_upto-1] = np.trapz(avg_k_shot_ohot_acc['MAS'][run][:measure_upto], batches_upto)/ max_area_trapz\n",
    "            area_ohot_trapz['EWC'][run][measure_upto-1] = np.trapz(avg_k_shot_ohot_acc['EWC'][run][:measure_upto], batches_upto)/ max_area_trapz\n",
    "            area_ohot_trapz['A-GEM'][run][measure_upto-1] = np.trapz(avg_k_shot_ohot_acc['A-GEM'][run][:measure_upto], batches_upto)/ max_area_trapz\n",
    "            area_ohot_trapz['MEGA'][run][measure_upto-1] = np.trapz(avg_k_shot_ohot_acc['MEGA'][run][:measure_upto], batches_upto)/ max_area_trapz\n",
    "            \n",
    "            \n",
    "print('LCA_10 classification models:')\n",
    "for key in area_ohot_trapz:\n",
    "    lca_10 = area_ohot_trapz[key][:, 10]\n",
    "    print('{}: {} (+-{})'.format(key, lca_10.mean(), lca_10.std()))\n"
   ]
  },
  {
   "cell_type": "code",
   "execution_count": 59,
   "metadata": {},
   "outputs": [
    {
     "data": {
      "image/png": "[encoded data removed]",
      "text/plain": [
       "<Figure size 576x360 with 1 Axes>"
      ]
     },
     "metadata": {
      "needs_background": "light"
     },
     "output_type": "display_data"
    }
   ],
   "source": [
    "batches_we_care = np.arange(BATCHES_WE_CARE+1)\n",
    "fig = plt.figure(figsize=(8, 5))\n",
    "ax = fig.add_axes([0.15, 0.21, 0.6, 0.75])\n",
    "\n",
    "\n",
    "ax.plot(batches_we_care, np.mean(area_ohot_trapz['VAN'], axis=0),'C0', lw=2, label='VAN')\n",
    "ax.plot(batches_we_care, np.mean(area_ohot_trapz['EWC'], axis=0),'-m', lw=2, label='EWC')\n",
    "ax.plot(batches_we_care, np.mean(area_ohot_trapz['RWALK'], axis=0),'-g', lw=2, label='RWALK')\n",
    "ax.plot(batches_we_care, np.mean(area_ohot_trapz['A-GEM'], axis=0),'-C9', lw=2, label='A-GEM')\n",
    "ax.plot(batches_we_care, np.mean(area_ohot_trapz['MEGA'], axis=0),'-r', marker='^', markersize=7, lw=2, label='MEGA')\n",
    "\n",
    "\n",
    "ax.set_xlabel('Batches', size=20)\n",
    "ax.set_ylabel('LCA', size=20)\n",
    "plt.xticks(batches_we_care)\n",
    "\n",
    "#ax.legend(bbox_to_anchor=(1, 1), loc=2, borderaxespad=0.2)\n",
    "plt.grid()\n",
    "#plt.show()\n",
    "plt.savefig('../results/iclr_plots/fam_awa_20.pdf')"
   ]
  },
  {
   "cell_type": "markdown",
   "metadata": {},
   "source": [
    "## Bar Plots"
   ]
  },
  {
   "cell_type": "code",
   "execution_count": 61,
   "metadata": {},
   "outputs": [],
   "source": [
    "def autolabel(rects):\n",
    "    \"\"\"\n",
    "    Attach a text label above each bar displaying its height\n",
    "    \"\"\"\n",
    "    for rect in rects:\n",
    "        height = rect.get_height()\n",
    "        ax.text(rect.get_x() + rect.get_width()/2.0, 1.05*height,\n",
    "                '%d' % int(height),\n",
    "                ha='center', va='bottom')"
   ]
  },
  {
   "cell_type": "code",
   "execution_count": 62,
   "metadata": {},
   "outputs": [
    {
     "data": {
      "text/plain": [
       "<Figure size 432x288 with 0 Axes>"
      ]
     },
     "metadata": {},
     "output_type": "display_data"
    },
    {
     "data": {
      "image/png": "[encoded data removed]",
      "text/plain": [
       "<Figure size 108x288 with 1 Axes>"
      ]
     },
     "metadata": {
      "needs_background": "light"
     },
     "output_type": "display_data"
    },
    {
     "data": {
      "image/png": "[encoded data removed]",
      "text/plain": [
       "<Figure size 108x288 with 1 Axes>"
      ]
     },
     "metadata": {
      "needs_background": "light"
     },
     "output_type": "display_data"
    },
    {
     "data": {
      "image/png": "[encoded data removed]",
      "text/plain": [
       "<Figure size 108x288 with 1 Axes>"
      ]
     },
     "metadata": {
      "needs_background": "light"
     },
     "output_type": "display_data"
    },
    {
     "data": {
      "image/png": "[encoded data removed]",
      "text/plain": [
       "<Figure size 180x288 with 1 Axes>"
      ]
     },
     "metadata": {
      "needs_background": "light"
     },
     "output_type": "display_data"
    }
   ],
   "source": [
    "# MNIST\n",
    "# metadata method = [Avg_Acc, Forgetting, LCA_10, Time, Mem]\n",
    "\n",
    "plt.clf()\n",
    "metric_name = ['acc', 'fgt', 'lca10', 'time', 'memory']\n",
    "\n",
    "ticks = ['$A_T$($\\uparrow$)', '$F_T$($\\downarrow$)', '$LCA_{10}$($\\uparrow$)', 'Time($\\downarrow$)', \n",
    "         'Mem($\\downarrow$)']\n",
    "\n",
    "labels = ['VAN', 'EWC', 'PROG-NN', 'GEM', 'A-GEM', 'MEGA']\n",
    "colors = ['C0', 'm', 'C5', 'c', 'C1', 'r']\n",
    "bar_data = dict()\n",
    "bar_error = dict()\n",
    "    \n",
    "    \n",
    "bar_data['VAN'] = np.array([0.475, 0.51, 0.26,  0.05, 0.03])\n",
    "bar_data['EWC'] = np.array([0.686, 0.28, 0.27, 0.117, 0.1])\n",
    "bar_data['PROG-NN'] = np.array([0.935, 0.0, 0.19, 0.0, 1])\n",
    "bar_data['GEM'] = np.array([0.895, 0.06, 0.23, 1, 0.49])\n",
    "bar_data['A-GEM'] = np.array([0.893, 0.07, 0.27, 0.138, 0.12])\n",
    "bar_data['MEGA'] = np.array([0.912, 0.05, 0.28, 0.145, 0.12])\n",
    "\n",
    "\n",
    "bar_error['VAN'] = np.array([0.0237, 0.02, 0.006, 0, 0])\n",
    "bar_error['EWC'] = np.array([0.0098, 0.01, 0.003, 0, 0])\n",
    "bar_error['PROG-NN'] = np.array([0.06, 0, 0.006, 0, 0])\n",
    "bar_error['GEM'] = np.array([0.0048, 0.004, 0.005, 0, 0])\n",
    "bar_error['A-GEM'] = np.array([0.0046, 0.001, 0.004, 0, 0])\n",
    "bar_error['MEGA'] = np.array([0.0010, 0.001, 0.004, 0, 0])\n",
    "\n",
    "total_metrics = 4\n",
    "for metric in range(total_metrics):\n",
    "    \n",
    "    if metric <=2:\n",
    "        fig = plt.figure(figsize=(1.5, 4))\n",
    "        #fig, axes = plt.subplots(1, 5)\n",
    "        ax = fig.add_axes([0.24, 0.15, 0.6, 0.75])\n",
    "        plt.rc('text', usetex=True)\n",
    "        plt.rc('font', family='serif')\n",
    "\n",
    "        num_methods = len(bar_data)\n",
    "        r = np.arange(0, num_methods)\n",
    "        data = np.zeros(num_methods)\n",
    "        yerror = np.zeros(num_methods)\n",
    "        \n",
    "        data[0] = bar_data['VAN'][metric]\n",
    "        data[1] = bar_data['EWC'][metric]\n",
    "        data[2] = bar_data['PROG-NN'][metric]\n",
    "        data[3] = bar_data['GEM'][metric]\n",
    "        data[4] = bar_data['A-GEM'][metric]\n",
    "        data[5] = bar_data['MEGA'][metric]   \n",
    "\n",
    "        yerror[0] = bar_error['VAN'][metric]\n",
    "        yerror[1] = bar_error['EWC'][metric]\n",
    "        yerror[2] = bar_error['PROG-NN'][metric]\n",
    "        yerror[3] = bar_error['GEM'][metric]\n",
    "        yerror[4] = bar_error['A-GEM'][metric]\n",
    "        yerror[5] = bar_error['MEGA'][metric]\n",
    "    \n",
    "        low = min(data)\n",
    "        high = max(data)\n",
    "        if metric == 1:\n",
    "            ax.set_ylim(low, high+np.max(yerror)+0.001)\n",
    "        else:\n",
    "            ax.set_ylim(low-np.max(yerror), high+np.max(yerror)+0.001)\n",
    "\n",
    "        barlist = ax.bar(r, data, yerr=yerror, error_kw=dict(lw=2, capsize=3, capthick=2))\n",
    "\n",
    "        for i in range(num_methods):\n",
    "            barlist[i].set_color(colors[i])\n",
    "    \n",
    "        ax.set_xlabel(ticks[metric], size=15)\n",
    "        plt.tick_params(\n",
    "            axis='x',          # changes apply to the x-axis\n",
    "            which='both',      # both major and minor ticks are affected\n",
    "            bottom=False,      # ticks along the bottom edge are off\n",
    "            top=False,         # ticks along the top edge are off\n",
    "            labelbottom=False)\n",
    "        #ax.spines['right'].set_visible(False)\n",
    "        ax.yaxis.set_major_formatter(FormatStrFormatter('%.2f'))\n",
    "        ax.yaxis.grid(linestyle='--')\n",
    "        #plt.show()\n",
    "        plt.savefig('../results/iclr_plots/grouped_lll_mnist_%s.pdf'%(metric_name[metric]))\n",
    "    else:\n",
    "        # Metric 3        \n",
    "        fig = plt.figure(figsize=(2.5, 4))\n",
    "        ax = fig.add_axes([0.24, 0.15, 0.6, 0.75])\n",
    "        sub_data1 = np.zeros(2)\n",
    "        sub_data2 = np.zeros(2)\n",
    "        sub_data3 = np.zeros(2)\n",
    "        sub_data4 = np.zeros(2)\n",
    "        sub_data5 = np.zeros(2)\n",
    "        sub_data6 = np.zeros(2)\n",
    "        \n",
    "        sub_data1 = bar_data['VAN'][3:]\n",
    "        sub_data2 = bar_data['EWC'][3:]\n",
    "        sub_data3 = bar_data['PROG-NN'][3:]\n",
    "        sub_data4 = bar_data['GEM'][3:]\n",
    "        sub_data5 = bar_data['A-GEM'][3:]\n",
    "        sub_data6 = bar_data['MEGA'][3:]\n",
    "        \n",
    "        barWidth = 0.15\n",
    "        r1 = np.arange(len(sub_data1))\n",
    "        r2 = [x + barWidth for x in r1]\n",
    "        r3 = [x + barWidth for x in r2]\n",
    "        r4 = [x + barWidth for x in r3]\n",
    "        r5 = [x + barWidth for x in r4]\n",
    "        r6 = [x + barWidth for x in r5]\n",
    "        \n",
    "        plt.bar(r1, sub_data1, width=barWidth, color=colors[0])\n",
    "        plt.bar(r2, sub_data2, width=barWidth, color=colors[1])\n",
    "        plt.bar(r3, sub_data3, width=barWidth, color=colors[2])\n",
    "        plt.bar(r4, sub_data4, width=barWidth, color=colors[3])\n",
    "        plt.bar(r5, sub_data5, width=barWidth, color=colors[4])\n",
    "        plt.bar(r6, sub_data6, width=barWidth, color=colors[5]) \n",
    "        \n",
    "        plt.xticks([r + barWidth for r in range(len(sub_data1))], [ticks[3], ticks[4]], size=13)\n",
    "        ax.yaxis.grid(linestyle='--')\n",
    "        #plt.show()\n",
    "        plt.savefig('../results/iclr_plots/grouped_lll_mnist_time_memory.pdf')"
   ]
  },
  {
   "cell_type": "code",
   "execution_count": 63,
   "metadata": {},
   "outputs": [
    {
     "data": {
      "image/png": "[encoded data removed]",
      "text/plain": [
       "<Figure size 108x288 with 1 Axes>"
      ]
     },
     "metadata": {
      "needs_background": "light"
     },
     "output_type": "display_data"
    }
   ],
   "source": [
    "#LTR MNIST\n",
    "\n",
    "fig = plt.figure(figsize=(1.5, 4))\n",
    "ax = fig.add_axes([0.24, 0.15, 0.6, 0.75])\n",
    "metric=2\n",
    "plt.rc('text', usetex=True)\n",
    "plt.rc('font', family='serif')\n",
    "num_methods = 4\n",
    "\n",
    "r = np.arange(0, num_methods)\n",
    "data = np.zeros(num_methods)\n",
    "yerror = np.zeros(num_methods)\n",
    "\n",
    "data[0] = 5.3753\n",
    "data[1] = 3.2916\n",
    "data[2] = 0.7164\n",
    "data[3] = 0.5248\n",
    "\n",
    "yerror[0] = 0.1942\n",
    "yerror[1] = 0.1351\n",
    "yerror[2] =0.0485\n",
    "yerror[3] = 0.0171\n",
    "\n",
    "low = min(data)\n",
    "high = max(data)\n",
    "ax.set_ylim(low-np.max(yerror), high+np.max(yerror)+0.001)\n",
    "barlist = ax.bar(r, data, yerr=yerror, error_kw=dict(lw=2, capsize=3, capthick=2))\n",
    "\n",
    "for i in range(num_methods):\n",
    "    barlist[i].set_color(colors[i])\n",
    "    \n",
    "ax.set_xlabel('$LTR$($\\downarrow$)', size=15)\n",
    "plt.tick_params(\n",
    "    axis='x',          # changes apply to the x-axis\n",
    "    which='both',      # both major and minor ticks are affected\n",
    "    bottom=False,      # ticks along the bottom edge are off\n",
    "    top=False,         # ticks along the top edge are off\n",
    "    labelbottom=False)\n",
    "\n",
    "ax.yaxis.grid(linestyle='--')\n",
    "ax.yaxis.set_major_formatter(FormatStrFormatter('%.2f'))\n",
    "#plt.savefig('./iclr_plots/mnist_ltr.eps))\n",
    "plt.show()\n"
   ]
  },
  {
   "cell_type": "code",
   "execution_count": 64,
   "metadata": {},
   "outputs": [
    {
     "data": {
      "text/plain": [
       "<Figure size 432x288 with 0 Axes>"
      ]
     },
     "metadata": {},
     "output_type": "display_data"
    },
    {
     "data": {
      "image/png": "[encoded data removed]",
      "text/plain": [
       "<Figure size 108x288 with 1 Axes>"
      ]
     },
     "metadata": {
      "needs_background": "light"
     },
     "output_type": "display_data"
    },
    {
     "data": {
      "image/png": "[encoded data removed]",
      "text/plain": [
       "<Figure size 108x288 with 1 Axes>"
      ]
     },
     "metadata": {
      "needs_background": "light"
     },
     "output_type": "display_data"
    },
    {
     "data": {
      "image/png": "[encoded data removed]",
      "text/plain": [
       "<Figure size 108x288 with 1 Axes>"
      ]
     },
     "metadata": {
      "needs_background": "light"
     },
     "output_type": "display_data"
    },
    {
     "data": {
      "image/png": "[encoded data removed]",
      "text/plain": [
       "<Figure size 180x288 with 1 Axes>"
      ]
     },
     "metadata": {
      "needs_background": "light"
     },
     "output_type": "display_data"
    }
   ],
   "source": [
    "# CIFAR\n",
    "# metadata method = [Avg_Acc, Forgetting, LCA_10, Time, Mem]\n",
    "plt.clf()\n",
    "metric_name = ['acc', 'fgt', 'lca10', 'time', 'memory']\n",
    "ticks = ['$A_T$($\\uparrow$)', '$F_T$($\\downarrow$)', '$LCA_{10}$($\\uparrow$)', 'Time($\\downarrow$)', \n",
    "         'Mem($\\downarrow$)']\n",
    "labels = ['VAN', 'EWC', 'PROG-NN', 'GEM', 'A-GEM', 'MEGA']\n",
    "colors = ['C0', 'm', 'C5', 'c', 'C1', 'r']\n",
    "bar_data = dict()\n",
    "bar_error = dict()\n",
    "\n",
    "\n",
    "bar_data['VAN'] = np.array([0.404, 0.27, 0.30, 0.02, 0.04])\n",
    "bar_data['EWC'] = np.array([0.427, 0.26, 0.33, 0.05, 0.09])\n",
    "bar_data['PROG-NN'] = np.array([0.598, 0, 0.21, 0.08, 1])\n",
    "bar_data['GEM'] = np.array([0.612, 0.06, 0.36, 1, 0.47])\n",
    "bar_data['A-GEM'] = np.array([0.613, 0.08, 0.35, 0.08, 0.2])\n",
    "bar_data['MEGA'] = np.array([0.661, 0.05, 0.37, 0.086, 0.2])\n",
    "\n",
    "\n",
    "bar_error['VAN'] = np.array([0.0101, 0.006, 0.01, 0, 0])\n",
    "bar_error['EWC'] = np.array([0.0423, 0.03, 0.01, 0, 0])\n",
    "bar_error['PROG-NN'] = np.array([0.0123, 0.0, 0.002, 0, 0])\n",
    "bar_error['GEM'] = np.array([0.0078, 0.007, 0.007, 0, 0])\n",
    "bar_error['A-GEM'] = np.array([0.0188, 0.01, 0.01, 0, 0])\n",
    "bar_error['MEGA'] = np.array([0.01, 0.01, 0.01, 0, 0])\n",
    "\n",
    "total_metrics = 4\n",
    "for metric in range(total_metrics):\n",
    "    \n",
    "    if metric <=2:\n",
    "        fig = plt.figure(figsize=(1.5, 4))\n",
    "        #fig, axes = plt.subplots(1, 5)\n",
    "        ax = fig.add_axes([0.24, 0.15, 0.6, 0.75])\n",
    "        plt.rc('text', usetex=True)\n",
    "        plt.rc('font', family='serif')\n",
    "\n",
    "        num_methods = len(bar_data)\n",
    "        r = np.arange(0, num_methods)\n",
    "        data = np.zeros(num_methods)\n",
    "        yerror = np.zeros(num_methods)\n",
    "        \n",
    "        data[0] = bar_data['VAN'][metric]\n",
    "        data[1] = bar_data['EWC'][metric]\n",
    "        data[2] = bar_data['PROG-NN'][metric]\n",
    "        data[3] = bar_data['GEM'][metric]\n",
    "        data[4] = bar_data['A-GEM'][metric]\n",
    "        data[5] = bar_data['MEGA'][metric]\n",
    "    \n",
    "        \n",
    "        yerror[0] = bar_error['VAN'][metric]\n",
    "        yerror[1] = bar_error['EWC'][metric]\n",
    "        yerror[2] = bar_error['PROG-NN'][metric]\n",
    "        yerror[3] = bar_error['GEM'][metric]\n",
    "        yerror[4] = bar_error['A-GEM'][metric]\n",
    "        yerror[5] = bar_error['MEGA'][metric]\n",
    "        \n",
    "        \n",
    "        low = min(data)\n",
    "        high = max(data)\n",
    "        if metric == 1:\n",
    "            ax.set_ylim(low, high+np.max(yerror)+0.001)\n",
    "        else:\n",
    "            ax.set_ylim(low-np.max(yerror), high+np.max(yerror)+0.001)\n",
    "            \n",
    "        barlist = ax.bar(r, data, yerr=yerror, error_kw=dict(lw=2, capsize=3, capthick=2))\n",
    "\n",
    "        for i in range(num_methods):\n",
    "            barlist[i].set_color(colors[i])\n",
    "    \n",
    "        ax.set_xlabel(ticks[metric], size=15)\n",
    "        plt.tick_params(\n",
    "            axis='x',          # changes apply to the x-axis\n",
    "            which='both',      # both major and minor ticks are affected\n",
    "            bottom=False,      # ticks along the bottom edge are off\n",
    "            top=False,         # ticks along the top edge are off\n",
    "            labelbottom=False)\n",
    "        #ax.spines['right'].set_visible(False)\n",
    "        ax.yaxis.set_major_formatter(FormatStrFormatter('%.2f'))\n",
    "        ax.yaxis.grid(linestyle='--')\n",
    "        #plt.show()\n",
    "        plt.savefig('../results/iclr_plots/grouped_lll_cifar_%s.pdf'%(metric_name[metric]))\n",
    "    else:\n",
    "        # Metric 3        \n",
    "        fig = plt.figure(figsize=(2.5, 4))\n",
    "        ax = fig.add_axes([0.24, 0.15, 0.6, 0.75])\n",
    "        sub_data1 = np.zeros(2)\n",
    "        sub_data2 = np.zeros(2)\n",
    "        sub_data3 = np.zeros(2)\n",
    "        sub_data4 = np.zeros(2)\n",
    "        sub_data5 = np.zeros(2)\n",
    "        sub_data6 = np.zeros(2)\n",
    "        \n",
    "        sub_data1 = bar_data['VAN'][3:]\n",
    "        sub_data2 = bar_data['EWC'][3:]\n",
    "        sub_data3 = bar_data['PROG-NN'][3:]\n",
    "        sub_data4 = bar_data['GEM'][3:]\n",
    "        sub_data5 = bar_data['A-GEM'][3:]\n",
    "        sub_data6 = bar_data['MEGA'][3:]\n",
    "        \n",
    "        barWidth = 0.1\n",
    "        r1 = np.arange(len(sub_data1))\n",
    "        r2 = [x + barWidth for x in r1]\n",
    "        r3 = [x + barWidth for x in r2]\n",
    "        r4 = [x + barWidth for x in r3]\n",
    "        r5 = [x + barWidth for x in r4]\n",
    "        r6 = [x + barWidth for x in r5]\n",
    "        \n",
    "        plt.bar(r1, sub_data1, width=barWidth, color=colors[0])\n",
    "        plt.bar(r2, sub_data2, width=barWidth, color=colors[1])\n",
    "        plt.bar(r3, sub_data3, width=barWidth, color=colors[2])\n",
    "        plt.bar(r4, sub_data4, width=barWidth, color=colors[3])\n",
    "        plt.bar(r5, sub_data5, width=barWidth, color=colors[4])\n",
    "        plt.bar(r6, sub_data6, width=barWidth, color=colors[5])\n",
    "        \n",
    "        plt.xticks([r + barWidth for r in range(len(sub_data1))], [ticks[3], ticks[4]], size=13)\n",
    "        ax.yaxis.grid(linestyle='--')\n",
    "        #plt.show()\n",
    "        plt.savefig('../results/iclr_plots/grouped_lll_cifar_time_memory.pdf')"
   ]
  },
  {
   "cell_type": "code",
   "execution_count": 65,
   "metadata": {},
   "outputs": [
    {
     "data": {
      "text/plain": [
       "<Figure size 432x288 with 0 Axes>"
      ]
     },
     "metadata": {},
     "output_type": "display_data"
    },
    {
     "data": {
      "image/png": "[encoded data removed]",
      "text/plain": [
       "<Figure size 658.8x72 with 1 Axes>"
      ]
     },
     "metadata": {
      "needs_background": "light"
     },
     "output_type": "display_data"
    }
   ],
   "source": [
    "plt.clf()\n",
    "fig = plt.figure(figsize=(9.15,1))\n",
    "ax = fig.add_axes([-0.41, 0.10, 0.4, 0.75])\n",
    "patches = []\n",
    "for i in range(num_methods):\n",
    "        patches.append(mpatches.Patch(color=colors[i], label=labels[i]))\n",
    "        plt.legend(handles=patches, bbox_to_anchor=(1, 1), loc=2, borderaxespad=0.6, \n",
    "                   fontsize='x-large', ncol=6)\n",
    "#plt.show()\n",
    "plt.savefig('../results/iclr_plots/mnist_cifar_legend.pdf')"
   ]
  },
  {
   "cell_type": "code",
   "execution_count": 66,
   "metadata": {},
   "outputs": [
    {
     "name": "stdout",
     "output_type": "stream",
     "text": [
      "[0.2  0.23]\n"
     ]
    },
    {
     "data": {
      "text/plain": [
       "<Figure size 432x288 with 0 Axes>"
      ]
     },
     "metadata": {},
     "output_type": "display_data"
    },
    {
     "data": {
      "image/png": "[encoded data removed]",
      "text/plain": [
       "<Figure size 108x288 with 1 Axes>"
      ]
     },
     "metadata": {
      "needs_background": "light"
     },
     "output_type": "display_data"
    },
    {
     "data": {
      "image/png": "[encoded data removed]",
      "text/plain": [
       "<Figure size 108x288 with 1 Axes>"
      ]
     },
     "metadata": {
      "needs_background": "light"
     },
     "output_type": "display_data"
    },
    {
     "data": {
      "image/png": "[encoded data removed]",
      "text/plain": [
       "<Figure size 108x288 with 1 Axes>"
      ]
     },
     "metadata": {
      "needs_background": "light"
     },
     "output_type": "display_data"
    },
    {
     "data": {
      "image/png": "[encoded data removed]",
      "text/plain": [
       "<Figure size 180x288 with 1 Axes>"
      ]
     },
     "metadata": {
      "needs_background": "light"
     },
     "output_type": "display_data"
    }
   ],
   "source": [
    "# CUB\n",
    "# metadata method = [Avg_Acc, Forgetting, LCA_10, Time, Mem]\n",
    "plt.clf()\n",
    "metric_name = ['acc', 'fgt', 'lca10', 'time', 'memory']\n",
    "\n",
    "ticks = ['$A_T$($\\uparrow$)', '$F_T$($\\downarrow$)', '$LCA_{10}$($\\uparrow$)', 'Time($\\downarrow$)', \n",
    "         'Mem($\\downarrow$)']\n",
    "labels = ['VAN',  'EWC',  'A-GEM', 'MEGA']\n",
    "colors = ['C0', 'm', 'C1',  'r']\n",
    "\n",
    "bar_data = dict()\n",
    "bar_error = dict()\n",
    "\n",
    "\n",
    "\n",
    "bar_data['VAN'] = np.array([0.539, 0.13, 0.29, 0.2, 0.23])\n",
    "bar_data['EWC'] = np.array([0.54, 0.14, 0.29, 0.3, 0.85])\n",
    "bar_data['A-GEM'] = np.array([0.62, 0.07, 0.30, 1, 1])\n",
    "bar_data['MEGA'] = np.array([0.81, 0.01, 0.31, 0.97, 1])\n",
    "\n",
    "bar_error['VAN'] = np.array([0.020, 0.02, 0.008])\n",
    "bar_error['EWC'] = np.array([0.017, 0.02, 0.009])\n",
    "bar_error['A-GEM'] = np.array([0.03, 0.02, 0.01])\n",
    "bar_error['MEGA'] = np.array([0.019, 0.005, 0.009])\n",
    "\n",
    "# Metric 0        \n",
    "fig = plt.figure(figsize=(1.5, 4))\n",
    "ax = fig.add_axes([0.24, 0.15, 0.6, 0.75])\n",
    "metric=0\n",
    "plt.rc('text', usetex=True)\n",
    "plt.rc('font', family='serif')\n",
    "num_methods = len(bar_data)\n",
    "r = np.arange(0, num_methods)\n",
    "data = np.zeros(num_methods)\n",
    "yerror = np.zeros(num_methods)\n",
    "\n",
    "data[0] = bar_data['VAN'][metric]\n",
    "data[1] = bar_data['EWC'][metric]\n",
    "data[2] = bar_data['A-GEM'][metric]\n",
    "data[3] = bar_data['MEGA'][metric]\n",
    "\n",
    "yerror[0] = bar_error['VAN'][metric]\n",
    "yerror[1] = bar_error['EWC'][metric]\n",
    "yerror[2] = bar_error['A-GEM'][metric]\n",
    "yerror[3] = bar_error['MEGA'][metric]\n",
    "\n",
    "low = min(data)\n",
    "high = max(data)\n",
    "#ax.set_ylim(low-0.005, high+0.005)\n",
    "ax.set_ylim(low-np.max(yerror), high+np.max(yerror)+0.001)\n",
    "barlist = ax.bar(r, data, yerr=yerror, error_kw=dict(lw=2, capsize=3, capthick=2))\n",
    "for i in range(num_methods):\n",
    "    barlist[i].set_color(colors[i])\n",
    "    \n",
    "ax.set_xlabel(ticks[metric], size=15)\n",
    "plt.tick_params(\n",
    "    axis='x',          # changes apply to the x-axis\n",
    "    which='both',      # both major and minor ticks are affected\n",
    "    bottom=False,      # ticks along the bottom edge are off\n",
    "    top=False,         # ticks along the top edge are off\n",
    "    labelbottom=False)\n",
    "ax.yaxis.grid(linestyle='--')\n",
    "ax.yaxis.set_major_formatter(FormatStrFormatter('%.2f'))\n",
    "plt.savefig('../results/iclr_plots/grouped_lll_cub_%s.pdf'%(metric_name[metric]))\n",
    "\n",
    "# Metric 1        \n",
    "fig = plt.figure(figsize=(1.5, 4))\n",
    "ax = fig.add_axes([0.24, 0.15, 0.6, 0.75])\n",
    "metric=1\n",
    "plt.rc('text', usetex=True)\n",
    "plt.rc('font', family='serif')\n",
    "num_methods = len(bar_data)\n",
    "r = np.arange(0, num_methods)\n",
    "data = np.zeros(num_methods)\n",
    "yerror = np.zeros(num_methods)\n",
    "\n",
    "data[0] = bar_data['VAN'][metric]\n",
    "data[1] = bar_data['EWC'][metric]\n",
    "data[2] = bar_data['A-GEM'][metric]\n",
    "data[3] = bar_data['MEGA'][metric]\n",
    "\n",
    "yerror[0] = bar_error['VAN'][metric]\n",
    "yerror[1] = bar_error['EWC'][metric]\n",
    "yerror[2] = bar_error['A-GEM'][metric]\n",
    "yerror[3] = bar_error['MEGA'][metric]\n",
    "\n",
    "low = min(data)\n",
    "high = max(data)\n",
    "#ax.set_ylim(low-0.003, high+0.001)\n",
    "#ax.set_ylim(low-np.max(yerror), high+np.max(yerror)+0.001)\n",
    "barlist = ax.bar(r, data, yerr=yerror, error_kw=dict(lw=2, capsize=3, capthick=2))\n",
    "for i in range(num_methods):\n",
    "    barlist[i].set_color(colors[i])\n",
    "    \n",
    "ax.set_xlabel(ticks[metric], size=15)\n",
    "plt.tick_params(\n",
    "    axis='x',          # changes apply to the x-axis\n",
    "    which='both',      # both major and minor ticks are affected\n",
    "    bottom=False,      # ticks along the bottom edge are off\n",
    "    top=False,         # ticks along the top edge are off\n",
    "    labelbottom=False)\n",
    "ax.yaxis.grid(linestyle='--')\n",
    "plt.savefig('../results/iclr_plots/grouped_lll_cub_%s.pdf'%(metric_name[metric]))\n",
    "\n",
    "# Metric 2        \n",
    "fig = plt.figure(figsize=(1.5, 4))\n",
    "ax = fig.add_axes([0.24, 0.15, 0.6, 0.75])\n",
    "metric=2\n",
    "plt.rc('text', usetex=True)\n",
    "plt.rc('font', family='serif')\n",
    "num_methods = len(bar_data)\n",
    "r = np.arange(0, num_methods)\n",
    "data = np.zeros(num_methods)\n",
    "yerror = np.zeros(num_methods)\n",
    "\n",
    "data[0] = bar_data['VAN'][metric]\n",
    "data[1] = bar_data['EWC'][metric]\n",
    "data[2] = bar_data['A-GEM'][metric]\n",
    "data[3] = bar_data['MEGA'][metric]\n",
    "\n",
    "yerror[0] = bar_error['VAN'][metric]\n",
    "yerror[1] = bar_error['EWC'][metric]\n",
    "yerror[2] = bar_error['A-GEM'][metric]\n",
    "yerror[3] = bar_error['MEGA'][metric]\n",
    "\n",
    "low = min(data)\n",
    "high = max(data)\n",
    "ax.set_ylim(low-np.max(yerror), high+np.max(yerror)+0.001)\n",
    "barlist = ax.bar(r, data, yerr=yerror, error_kw=dict(lw=2, capsize=3, capthick=2))\n",
    "for i in range(num_methods):\n",
    "    barlist[i].set_color(colors[i])\n",
    "    \n",
    "ax.set_xlabel(ticks[metric], size=15)\n",
    "plt.tick_params(\n",
    "    axis='x',          # changes apply to the x-axis\n",
    "    which='both',      # both major and minor ticks are affected\n",
    "    bottom=False,      # ticks along the bottom edge are off\n",
    "    top=False,         # ticks along the top edge are off\n",
    "    labelbottom=False)\n",
    "ax.yaxis.grid(linestyle='--')\n",
    "ax.yaxis.set_major_formatter(FormatStrFormatter('%.2f'))\n",
    "plt.savefig('../results/iclr_plots/grouped_lll_cub_%s.pdf'%(metric_name[metric]))\n",
    "\n",
    "# Metric 3        \n",
    "fig = plt.figure(figsize=(2.5, 4))\n",
    "ax = fig.add_axes([0.24, 0.15, 0.6, 0.75])\n",
    "sub_data1 = np.zeros(2)\n",
    "sub_data2 = np.zeros(2)\n",
    "sub_data3 = np.zeros(2)\n",
    "sub_data4 = np.zeros(2)\n",
    "\n",
    "sub_data1 = bar_data['VAN'][3:]\n",
    "sub_data2 = bar_data['EWC'][3:]\n",
    "sub_data3 = bar_data['A-GEM'][3:]\n",
    "sub_data4 = bar_data['MEGA'][3:]\n",
    "\n",
    "print(sub_data1)\n",
    "barWidth = 0.20\n",
    "r1 = np.arange(len(sub_data1))\n",
    "r2 = [x + barWidth for x in r1]\n",
    "r3 = [x + barWidth for x in r2]\n",
    "r4 = [x + barWidth for x in r3]\n",
    "\n",
    "#ax.set_ylim(0.2-0.01, 1)\n",
    "\n",
    "plt.bar(r1, sub_data1, width=barWidth, color=colors[0])\n",
    "plt.bar(r2, sub_data2, width=barWidth, color=colors[1])\n",
    "plt.bar(r3, sub_data3, width=barWidth, color=colors[2])\n",
    "plt.bar(r4, sub_data4, width=barWidth, color=colors[3])\n",
    "\n",
    "plt.xticks([r + barWidth for r in range(len(sub_data1))], [ticks[3], ticks[4]], size=13)\n",
    "#ax = plt.axes()        \n",
    "ax.yaxis.grid(linestyle='--')\n",
    "plt.savefig('../results/iclr_plots/grouped_lll_cub_time_memory.pdf')\n"
   ]
  },
  {
   "cell_type": "code",
   "execution_count": null,
   "metadata": {},
   "outputs": [],
   "source": []
  },
  {
   "cell_type": "code",
   "execution_count": 52,
   "metadata": {},
   "outputs": [
    {
     "data": {
      "text/plain": [
       "<Figure size 432x288 with 0 Axes>"
      ]
     },
     "metadata": {},
     "output_type": "display_data"
    },
    {
     "data": {
      "image/png": "[encoded data removed]",
      "text/plain": [
       "<Figure size 108x288 with 1 Axes>"
      ]
     },
     "metadata": {
      "needs_background": "light"
     },
     "output_type": "display_data"
    },
    {
     "data": {
      "image/png": "[encoded data removed]",
      "text/plain": [
       "<Figure size 108x288 with 1 Axes>"
      ]
     },
     "metadata": {
      "needs_background": "light"
     },
     "output_type": "display_data"
    },
    {
     "data": {
      "image/png": "[encoded data removed]",
      "text/plain": [
       "<Figure size 108x288 with 1 Axes>"
      ]
     },
     "metadata": {
      "needs_background": "light"
     },
     "output_type": "display_data"
    },
    {
     "data": {
      "image/png": "[encoded data removed]",
      "text/plain": [
       "<Figure size 172.8x288 with 1 Axes>"
      ]
     },
     "metadata": {
      "needs_background": "light"
     },
     "output_type": "display_data"
    }
   ],
   "source": [
    "# AWA\n",
    "# metadata method = [Avg_Acc, Forgetting, LCA_10, Mem]\n",
    "plt.clf()\n",
    "metric = 4\n",
    "metric_name = ['acc', 'fgt', 'lca10', 'time', 'memory']\n",
    "ticks = ['$A_T$($\\uparrow$)', '$F_T$($\\downarrow$)', '$LCA_{10}$($\\uparrow$)', 'Time($\\downarrow$)', \n",
    "         'Mem($\\downarrow$)']\n",
    "\n",
    "labels = ['VAN',  'EWC',  'A-GEM', 'MEGA']\n",
    "colors = ['C0', 'm', 'C1',  'r']\n",
    "\n",
    "bar_data = dict()\n",
    "bar_error = dict()\n",
    "\n",
    "\n",
    "bar_data['VAN'] = np.array([0.303, 0.04, 0.21, 0.04, 0.08])\n",
    "bar_data['EWC'] = np.array([0.334, 0.08, 0.26, 0.04, 0.26])\n",
    "bar_data['A-GEM'] = np.array([0.45, 0.05, 0.29, 0.05, 0.32])\n",
    "bar_data['MEGA'] = np.array([0.54, 0.05, 0.30, 0.0504, 0.32])\n",
    "\n",
    "\n",
    "bar_error['VAN'] = np.array([0.0284, 0.01, 0.008])\n",
    "bar_error['EWC'] = np.array([0.0306, 0.02, 0.01])\n",
    "bar_error['A-GEM'] = np.array([0.03, 0.01, 0.01])\n",
    "bar_error['MEGA'] = np.array([0.05, 0.02, 0.01])\n",
    "\n",
    "# Metric 0        \n",
    "fig = plt.figure(figsize=(1.5, 4))\n",
    "ax = fig.add_axes([0.24, 0.15, 0.6, 0.75])\n",
    "metric=0\n",
    "plt.rc('text', usetex=True)\n",
    "plt.rc('font', family='serif')\n",
    "num_methods = len(bar_data)\n",
    "r = np.arange(0, num_methods)\n",
    "data = np.zeros(num_methods)\n",
    "yerror = np.zeros(num_methods)\n",
    "data[0] = bar_data['VAN'][metric]\n",
    "data[1] = bar_data['EWC'][metric]\n",
    "data[2] = bar_data['A-GEM'][metric]\n",
    "data[3] = bar_data['MEGA'][metric]\n",
    "\n",
    "yerror[0] = bar_error['VAN'][metric]\n",
    "yerror[1] = bar_error['EWC'][metric]\n",
    "yerror[2] = bar_error['A-GEM'][metric]\n",
    "yerror[3] = bar_error['MEGA'][metric]\n",
    "\n",
    "low = min(data)\n",
    "high = max(data)\n",
    "#ax.set_ylim(low-0.005, high+0.005)\n",
    "ax.set_ylim(low-np.max(yerror), high+np.max(yerror)+0.001)\n",
    "barlist = ax.bar(r, data, yerr=yerror, error_kw=dict(lw=2, capsize=3, capthick=2))\n",
    "for i in range(num_methods):\n",
    "    barlist[i].set_color(colors[i])\n",
    "    \n",
    "ax.set_xlabel(ticks[metric], size=15)\n",
    "plt.tick_params(\n",
    "    axis='x',          # changes apply to the x-axis\n",
    "    which='both',      # both major and minor ticks are affected\n",
    "    bottom=False,      # ticks along the bottom edge are off\n",
    "    top=False,         # ticks along the top edge are off\n",
    "    labelbottom=False)\n",
    "ax.yaxis.set_major_formatter(FormatStrFormatter('%.2f'))\n",
    "ax.yaxis.grid(linestyle='--')\n",
    "plt.savefig('../results/iclr_plots/grouped_lll_awa_%s.pdf'%(metric_name[metric]))\n",
    "\n",
    "# Metric 1        \n",
    "fig = plt.figure(figsize=(1.5, 4))\n",
    "ax = fig.add_axes([0.24, 0.15, 0.6, 0.75])\n",
    "metric=1\n",
    "plt.rc('text', usetex=True)\n",
    "plt.rc('font', family='serif')\n",
    "num_methods = len(bar_data)\n",
    "r = np.arange(0, num_methods)\n",
    "data = np.zeros(num_methods)\n",
    "yerror = np.zeros(num_methods)\n",
    "data[0] = bar_data['VAN'][metric]\n",
    "data[1] = bar_data['EWC'][metric]\n",
    "data[2] = bar_data['A-GEM'][metric]\n",
    "data[3] = bar_data['MEGA'][metric]\n",
    "\n",
    "yerror[0] = bar_error['VAN'][metric]\n",
    "yerror[1] = bar_error['EWC'][metric]\n",
    "yerror[2] = bar_error['A-GEM'][metric]\n",
    "yerror[3] = bar_error['MEGA'][metric]\n",
    "\n",
    "low = min(data)\n",
    "high = max(data)\n",
    "#ax.set_ylim(low-0.003, high+0.001)\n",
    "ax.set_ylim(0.01, high+np.max(yerror)+0.001)\n",
    "#ax.set_ylim(low, high+np.max(yerror)+0.001)\n",
    "barlist = ax.bar(r, data, yerr=yerror, error_kw=dict(lw=2, capsize=3, capthick=2))\n",
    "for i in range(num_methods):\n",
    "    barlist[i].set_color(colors[i])\n",
    "    \n",
    "ax.set_xlabel(ticks[metric], size=15)\n",
    "plt.tick_params(\n",
    "    axis='x',          # changes apply to the x-axis\n",
    "    which='both',      # both major and minor ticks are affected\n",
    "    bottom=False,      # ticks along the bottom edge are off\n",
    "    top=False,         # ticks along the top edge are off\n",
    "    labelbottom=False)\n",
    "ax.yaxis.grid(linestyle='--')\n",
    "plt.savefig('../results/iclr_plots/grouped_lll_awa_%s.pdf'%(metric_name[metric]))\n",
    "\n",
    "# Metric 2        \n",
    "fig = plt.figure(figsize=(1.5, 4))\n",
    "ax = fig.add_axes([0.24, 0.15, 0.6, 0.75])\n",
    "metric=2\n",
    "plt.rc('text', usetex=True)\n",
    "plt.rc('font', family='serif')\n",
    "num_methods = len(bar_data)\n",
    "r = np.arange(0, num_methods)\n",
    "data = np.zeros(num_methods)\n",
    "yerror = np.zeros(num_methods)\n",
    "data[0] = bar_data['VAN'][metric]\n",
    "data[1] = bar_data['EWC'][metric]\n",
    "data[2] = bar_data['A-GEM'][metric]\n",
    "data[3] = bar_data['MEGA'][metric]\n",
    "\n",
    "yerror[0] = bar_error['VAN'][metric]\n",
    "yerror[1] = bar_error['EWC'][metric]\n",
    "yerror[2] = bar_error['A-GEM'][metric]\n",
    "yerror[3] = bar_error['MEGA'][metric]\n",
    "\n",
    "low = min(data)\n",
    "high = max(data)\n",
    "#ax.set_ylim(low-0.005, high+0.005)\n",
    "ax.set_ylim(low-np.max(yerror), high+np.max(yerror)+0.001)\n",
    "barlist = ax.bar(r, data, yerr=yerror, error_kw=dict(lw=2, capsize=3, capthick=2))\n",
    "for i in range(num_methods):\n",
    "    barlist[i].set_color(colors[i])\n",
    "    \n",
    "ax.set_xlabel(ticks[metric], size=15)\n",
    "plt.tick_params(\n",
    "    axis='x',          # changes apply to the x-axis\n",
    "    which='both',      # both major and minor ticks are affected\n",
    "    bottom=False,      # ticks along the bottom edge are off\n",
    "    top=False,         # ticks along the top edge are off\n",
    "    labelbottom=False)\n",
    "ax.yaxis.grid(linestyle='--')\n",
    "ax.yaxis.set_major_formatter(FormatStrFormatter('%.2f'))\n",
    "plt.savefig('../results/iclr_plots/grouped_lll_awa_%s.pdf'%(metric_name[metric]))\n",
    "\n",
    "# Metric 3  \n",
    "fig = plt.figure(figsize=(2.4, 4))\n",
    "ax = fig.add_axes([0.24, 0.15, 0.6, 0.75])\n",
    "sub_data1 = np.zeros(2)\n",
    "sub_data2 = np.zeros(2)\n",
    "sub_data3 = np.zeros(2)\n",
    "sub_data4 = np.zeros(2)\n",
    "\n",
    "sub_data1 = bar_data['VAN'][3:]\n",
    "sub_data2 = bar_data['EWC'][3:]\n",
    "sub_data3 = bar_data['A-GEM'][3:]\n",
    "sub_data4  = bar_data['MEGA'][3:]\n",
    "\n",
    "barWidth = 0.20\n",
    "r1 = np.arange(len(sub_data1))\n",
    "r2 = [x + barWidth for x in r1]\n",
    "r3 = [x + barWidth for x in r2]\n",
    "r4 = [x + barWidth for x in r3]\n",
    "\n",
    "plt.bar(r1, sub_data1, width=barWidth, color=colors[0])\n",
    "plt.bar(r2, sub_data2, width=barWidth, color=colors[1])\n",
    "plt.bar(r3, sub_data3, width=barWidth, color=colors[2])\n",
    "plt.bar(r4, sub_data4, width=barWidth, color=colors[3])\n",
    "    \n",
    "patches = []\n",
    "\n",
    "#for i in range(num_methods):\n",
    "#        patches.append(mpatches.Patch(color=colors[i], label=labels[i]))\n",
    "#        plt.legend(handles=patches, loc='best',  \n",
    "#                  fontsize='x-small')\n",
    "        \n",
    "plt.xticks([r + barWidth for r in range(len(sub_data1))], [ticks[3], ticks[4]], size=13)\n",
    "ax.yaxis.set_major_formatter(FormatStrFormatter('%.2f'))\n",
    "ax.yaxis.grid(linestyle='--')\n",
    "#plt.legend(loc='best')\n",
    "plt.savefig('../results/iclr_plots/grouped_lll_awa_time_memory.pdf')"
   ]
  }
 ],
 "metadata": {
  "kernelspec": {
   "display_name": "Python 3",
   "language": "python",
   "name": "python3"
  },
  "language_info": {
   "codemirror_mode": {
    "name": "ipython",
    "version": 2
   },
   "file_extension": ".py",
   "mimetype": "text/x-python",
   "name": "python",
   "nbconvert_exporter": "python",
   "pygments_lexer": "ipython2",
   "version": "2.7.10"
  }
 },
 "nbformat": 4,
 "nbformat_minor": 2
}
